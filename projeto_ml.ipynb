{
 "cells": [
  {
   "cell_type": "markdown",
   "metadata": {},
   "source": [
    "# Projeto de Machine Learning\n",
    "\n",
    "### Larissa Lewartoski Wong"
   ]
  },
  {
   "cell_type": "markdown",
   "metadata": {},
   "source": [
    "# Identificação do problema e contextualização"
   ]
  },
  {
   "cell_type": "markdown",
   "metadata": {},
   "source": [
    "Foi escolhido para esse projeto um dataset de domínio público, então não foi necessário realizar coleta dos dados.\n",
    "\n",
    "## Dataset escolhido: Amazon Fine Food Reviews\n",
    "\n",
    "\n",
    "#### O dataset está disponível em: https://www.kaggle.com/datasets/snap/amazon-fine-food-reviews/"
   ]
  },
  {
   "cell_type": "markdown",
   "metadata": {},
   "source": [
    "![Dataset Escolhido](./imagens/dataset.png)"
   ]
  },
  {
   "cell_type": "markdown",
   "metadata": {},
   "source": [
    "## Domínio do problema\n",
    "\n",
    "O problema apresentado em questão envolve a análise de sentimentos para determinar a nota dada pelo cliente com base no conteúdo do review.\n",
    "\n",
    "### Objetivo do trabalho\n",
    "\n",
    "Este trabalho tem como objetivo principal o desenvolvimento e avaliação de um modelo de análise de sentimentos que possa analisar textos de avaliações e atribuir uma nota com base na polaridade dos sentimentos expressos no texto. Inicialmente será proposto e avaliado um modelo para determinar se a nota dada ao review foi 1 ou 5, com base nesse modelo inicial será possível avaliar se é viável expandir a determinação para todas as notas de 1 a 5."
   ]
  },
  {
   "cell_type": "markdown",
   "metadata": {},
   "source": [
    "# Aquisição e análise de dados"
   ]
  },
  {
   "cell_type": "markdown",
   "metadata": {},
   "source": [
    "O conjunto de dados utilizado neste projeto foi obtido a partir do kaggle, não sendo necessária a realização do processo de coleta. A escolha do conjunto de dados se deu principalmente pelo interesse no processamento dos reviews. A princípio não houveram grandes dificuldades acerca do conjunto de dados. A maior dificuldade em relação ao projeto e ao conjunto de dados se deu em razão da necessidade de definir como seria separado o conjunto para aplicação de algoritmos. Em termos de documentação do dataset não houve nenhuma dificuldade no entendimento do que se tratavam os atributos e do que há no dataset."
   ]
  },
  {
   "cell_type": "markdown",
   "metadata": {},
   "source": [
    "## Definição do dataset\n",
    "\n",
    "* O dados que integram o dataset são referentes a reviews realizados na plataforma Amazon, com foco nos reviews com tema comidas finas. O tema envolve comidas não necessariamente voltadas ao consumo humano e também é possível encontrar reviews de outras categorias no dataset. \n",
    "* Este dataset possui reviews realizados ao longo de mais de 10 anos com data final em outubro de 2012.\n",
    "* Possui 9 atributos, desconsiderando o id.\n",
    "* Possui 568,454 reviews\n",
    "* Os atributos são de tipos variados, possuindo atributos numéricos e categóricos.\n",
    "\n",
    "#### Em relação aos atributos:\n",
    "\n",
    "Além da análise realizada por meio da documentação e observação do dataset foi realizada uma análise de tipos do dataset, localizada mais abaixo no documento.\n",
    "\n",
    "- ProductId: código identificador único do produto (object, aparentemente strings com números e letras);\n",
    "- UserId: código identificador único do usuário que fez o review (object, aparentemente strings com números e letras);\n",
    "- ProfileName: nickname do usuário que fez o review (object, aparentemente strings com números e letras);\n",
    "- HelpfulnessNumerator: número de usuários que marcaram o review como útil (número inteiro);\n",
    "- HelpfulnessDenominator: número de usuários que marcaram o que acharam do review (sendo útil ou não) (número inteiro);\n",
    "- Score: nota dada pelo usuário para o produto no review (número inteiro de 1 a 5);\n",
    "- Time: timestamp de quando o review foi publicado (número inteiro);\n",
    "- Summary: sumário do conteúdo do review (object, texto);\n",
    "- Text: texto completo do review feito pelo usuário (object, texto)."
   ]
  },
  {
   "cell_type": "markdown",
   "metadata": {},
   "source": [
    "## Análise exploratória dos dados"
   ]
  },
  {
   "cell_type": "markdown",
   "metadata": {},
   "source": [
    "#### Import das bibliotecas utilizadas"
   ]
  },
  {
   "cell_type": "code",
   "execution_count": 64,
   "metadata": {},
   "outputs": [],
   "source": [
    "import numpy as np\n",
    "import pandas as pd\n",
    "import matplotlib.pyplot as plt"
   ]
  },
  {
   "cell_type": "markdown",
   "metadata": {},
   "source": [
    "#### Carregamento do dataset"
   ]
  },
  {
   "cell_type": "code",
   "execution_count": 65,
   "metadata": {},
   "outputs": [
    {
     "data": {
      "text/html": [
       "<div>\n",
       "<style scoped>\n",
       "    .dataframe tbody tr th:only-of-type {\n",
       "        vertical-align: middle;\n",
       "    }\n",
       "\n",
       "    .dataframe tbody tr th {\n",
       "        vertical-align: top;\n",
       "    }\n",
       "\n",
       "    .dataframe thead th {\n",
       "        text-align: right;\n",
       "    }\n",
       "</style>\n",
       "<table border=\"1\" class=\"dataframe\">\n",
       "  <thead>\n",
       "    <tr style=\"text-align: right;\">\n",
       "      <th></th>\n",
       "      <th>Id</th>\n",
       "      <th>ProductId</th>\n",
       "      <th>UserId</th>\n",
       "      <th>ProfileName</th>\n",
       "      <th>HelpfulnessNumerator</th>\n",
       "      <th>HelpfulnessDenominator</th>\n",
       "      <th>Score</th>\n",
       "      <th>Time</th>\n",
       "      <th>Summary</th>\n",
       "      <th>Text</th>\n",
       "    </tr>\n",
       "  </thead>\n",
       "  <tbody>\n",
       "    <tr>\n",
       "      <th>0</th>\n",
       "      <td>1</td>\n",
       "      <td>B001E4KFG0</td>\n",
       "      <td>A3SGXH7AUHU8GW</td>\n",
       "      <td>delmartian</td>\n",
       "      <td>1</td>\n",
       "      <td>1</td>\n",
       "      <td>5</td>\n",
       "      <td>1303862400</td>\n",
       "      <td>Good Quality Dog Food</td>\n",
       "      <td>I have bought several of the Vitality canned d...</td>\n",
       "    </tr>\n",
       "    <tr>\n",
       "      <th>1</th>\n",
       "      <td>2</td>\n",
       "      <td>B00813GRG4</td>\n",
       "      <td>A1D87F6ZCVE5NK</td>\n",
       "      <td>dll pa</td>\n",
       "      <td>0</td>\n",
       "      <td>0</td>\n",
       "      <td>1</td>\n",
       "      <td>1346976000</td>\n",
       "      <td>Not as Advertised</td>\n",
       "      <td>Product arrived labeled as Jumbo Salted Peanut...</td>\n",
       "    </tr>\n",
       "    <tr>\n",
       "      <th>2</th>\n",
       "      <td>3</td>\n",
       "      <td>B000LQOCH0</td>\n",
       "      <td>ABXLMWJIXXAIN</td>\n",
       "      <td>Natalia Corres \"Natalia Corres\"</td>\n",
       "      <td>1</td>\n",
       "      <td>1</td>\n",
       "      <td>4</td>\n",
       "      <td>1219017600</td>\n",
       "      <td>\"Delight\" says it all</td>\n",
       "      <td>This is a confection that has been around a fe...</td>\n",
       "    </tr>\n",
       "    <tr>\n",
       "      <th>3</th>\n",
       "      <td>4</td>\n",
       "      <td>B000UA0QIQ</td>\n",
       "      <td>A395BORC6FGVXV</td>\n",
       "      <td>Karl</td>\n",
       "      <td>3</td>\n",
       "      <td>3</td>\n",
       "      <td>2</td>\n",
       "      <td>1307923200</td>\n",
       "      <td>Cough Medicine</td>\n",
       "      <td>If you are looking for the secret ingredient i...</td>\n",
       "    </tr>\n",
       "    <tr>\n",
       "      <th>4</th>\n",
       "      <td>5</td>\n",
       "      <td>B006K2ZZ7K</td>\n",
       "      <td>A1UQRSCLF8GW1T</td>\n",
       "      <td>Michael D. Bigham \"M. Wassir\"</td>\n",
       "      <td>0</td>\n",
       "      <td>0</td>\n",
       "      <td>5</td>\n",
       "      <td>1350777600</td>\n",
       "      <td>Great taffy</td>\n",
       "      <td>Great taffy at a great price.  There was a wid...</td>\n",
       "    </tr>\n",
       "  </tbody>\n",
       "</table>\n",
       "</div>"
      ],
      "text/plain": [
       "   Id   ProductId          UserId                      ProfileName  \\\n",
       "0   1  B001E4KFG0  A3SGXH7AUHU8GW                       delmartian   \n",
       "1   2  B00813GRG4  A1D87F6ZCVE5NK                           dll pa   \n",
       "2   3  B000LQOCH0   ABXLMWJIXXAIN  Natalia Corres \"Natalia Corres\"   \n",
       "3   4  B000UA0QIQ  A395BORC6FGVXV                             Karl   \n",
       "4   5  B006K2ZZ7K  A1UQRSCLF8GW1T    Michael D. Bigham \"M. Wassir\"   \n",
       "\n",
       "   HelpfulnessNumerator  HelpfulnessDenominator  Score        Time  \\\n",
       "0                     1                       1      5  1303862400   \n",
       "1                     0                       0      1  1346976000   \n",
       "2                     1                       1      4  1219017600   \n",
       "3                     3                       3      2  1307923200   \n",
       "4                     0                       0      5  1350777600   \n",
       "\n",
       "                 Summary                                               Text  \n",
       "0  Good Quality Dog Food  I have bought several of the Vitality canned d...  \n",
       "1      Not as Advertised  Product arrived labeled as Jumbo Salted Peanut...  \n",
       "2  \"Delight\" says it all  This is a confection that has been around a fe...  \n",
       "3         Cough Medicine  If you are looking for the secret ingredient i...  \n",
       "4            Great taffy  Great taffy at a great price.  There was a wid...  "
      ]
     },
     "execution_count": 65,
     "metadata": {},
     "output_type": "execute_result"
    }
   ],
   "source": [
    "data = pd.read_csv('./amazon_fine_food_reviews/Reviews.csv')\n",
    "data.head()"
   ]
  },
  {
   "cell_type": "markdown",
   "metadata": {},
   "source": [
    "#### Verificando os tipos de dados"
   ]
  },
  {
   "cell_type": "code",
   "execution_count": 66,
   "metadata": {},
   "outputs": [
    {
     "data": {
      "text/plain": [
       "Id                         int64\n",
       "ProductId                 object\n",
       "UserId                    object\n",
       "ProfileName               object\n",
       "HelpfulnessNumerator       int64\n",
       "HelpfulnessDenominator     int64\n",
       "Score                      int64\n",
       "Time                       int64\n",
       "Summary                   object\n",
       "Text                      object\n",
       "dtype: object"
      ]
     },
     "execution_count": 66,
     "metadata": {},
     "output_type": "execute_result"
    }
   ],
   "source": [
    "data.dtypes"
   ]
  },
  {
   "cell_type": "markdown",
   "metadata": {},
   "source": [
    "#### Verificando a existência de valores nulos"
   ]
  },
  {
   "cell_type": "code",
   "execution_count": 67,
   "metadata": {},
   "outputs": [
    {
     "name": "stdout",
     "output_type": "stream",
     "text": [
      "<class 'pandas.core.frame.DataFrame'>\n",
      "RangeIndex: 568454 entries, 0 to 568453\n",
      "Data columns (total 10 columns):\n",
      " #   Column                  Non-Null Count   Dtype \n",
      "---  ------                  --------------   ----- \n",
      " 0   Id                      568454 non-null  int64 \n",
      " 1   ProductId               568454 non-null  object\n",
      " 2   UserId                  568454 non-null  object\n",
      " 3   ProfileName             568438 non-null  object\n",
      " 4   HelpfulnessNumerator    568454 non-null  int64 \n",
      " 5   HelpfulnessDenominator  568454 non-null  int64 \n",
      " 6   Score                   568454 non-null  int64 \n",
      " 7   Time                    568454 non-null  int64 \n",
      " 8   Summary                 568427 non-null  object\n",
      " 9   Text                    568454 non-null  object\n",
      "dtypes: int64(5), object(5)\n",
      "memory usage: 43.4+ MB\n"
     ]
    }
   ],
   "source": [
    "data.info()"
   ]
  },
  {
   "cell_type": "code",
   "execution_count": 68,
   "metadata": {},
   "outputs": [
    {
     "data": {
      "text/plain": [
       "Id                         0\n",
       "ProductId                  0\n",
       "UserId                     0\n",
       "ProfileName               16\n",
       "HelpfulnessNumerator       0\n",
       "HelpfulnessDenominator     0\n",
       "Score                      0\n",
       "Time                       0\n",
       "Summary                   27\n",
       "Text                       0\n",
       "dtype: int64"
      ]
     },
     "execution_count": 68,
     "metadata": {},
     "output_type": "execute_result"
    }
   ],
   "source": [
    "pd.options.mode.use_inf_as_na = True\n",
    "data.isnull().sum()"
   ]
  },
  {
   "cell_type": "markdown",
   "metadata": {},
   "source": [
    "#### Utilização do método describe para obter estatísticas descritivas para as variáveis numéricas\n",
    "\n",
    "Com base no resultado obtido pelo método foi possível concluir que a maior parte dos reviews possui score entre 4 e 5 e que as marcações de outros usuários quanto à utilidade dos reviews é baixa ."
   ]
  },
  {
   "cell_type": "code",
   "execution_count": 69,
   "metadata": {},
   "outputs": [
    {
     "data": {
      "text/html": [
       "<div>\n",
       "<style scoped>\n",
       "    .dataframe tbody tr th:only-of-type {\n",
       "        vertical-align: middle;\n",
       "    }\n",
       "\n",
       "    .dataframe tbody tr th {\n",
       "        vertical-align: top;\n",
       "    }\n",
       "\n",
       "    .dataframe thead th {\n",
       "        text-align: right;\n",
       "    }\n",
       "</style>\n",
       "<table border=\"1\" class=\"dataframe\">\n",
       "  <thead>\n",
       "    <tr style=\"text-align: right;\">\n",
       "      <th></th>\n",
       "      <th>Id</th>\n",
       "      <th>HelpfulnessNumerator</th>\n",
       "      <th>HelpfulnessDenominator</th>\n",
       "      <th>Score</th>\n",
       "      <th>Time</th>\n",
       "    </tr>\n",
       "  </thead>\n",
       "  <tbody>\n",
       "    <tr>\n",
       "      <th>count</th>\n",
       "      <td>568454.000000</td>\n",
       "      <td>568454.000000</td>\n",
       "      <td>568454.00000</td>\n",
       "      <td>568454.000000</td>\n",
       "      <td>5.684540e+05</td>\n",
       "    </tr>\n",
       "    <tr>\n",
       "      <th>mean</th>\n",
       "      <td>284227.500000</td>\n",
       "      <td>1.743817</td>\n",
       "      <td>2.22881</td>\n",
       "      <td>4.183199</td>\n",
       "      <td>1.296257e+09</td>\n",
       "    </tr>\n",
       "    <tr>\n",
       "      <th>std</th>\n",
       "      <td>164098.679298</td>\n",
       "      <td>7.636513</td>\n",
       "      <td>8.28974</td>\n",
       "      <td>1.310436</td>\n",
       "      <td>4.804331e+07</td>\n",
       "    </tr>\n",
       "    <tr>\n",
       "      <th>min</th>\n",
       "      <td>1.000000</td>\n",
       "      <td>0.000000</td>\n",
       "      <td>0.00000</td>\n",
       "      <td>1.000000</td>\n",
       "      <td>9.393408e+08</td>\n",
       "    </tr>\n",
       "    <tr>\n",
       "      <th>25%</th>\n",
       "      <td>142114.250000</td>\n",
       "      <td>0.000000</td>\n",
       "      <td>0.00000</td>\n",
       "      <td>4.000000</td>\n",
       "      <td>1.271290e+09</td>\n",
       "    </tr>\n",
       "    <tr>\n",
       "      <th>50%</th>\n",
       "      <td>284227.500000</td>\n",
       "      <td>0.000000</td>\n",
       "      <td>1.00000</td>\n",
       "      <td>5.000000</td>\n",
       "      <td>1.311120e+09</td>\n",
       "    </tr>\n",
       "    <tr>\n",
       "      <th>75%</th>\n",
       "      <td>426340.750000</td>\n",
       "      <td>2.000000</td>\n",
       "      <td>2.00000</td>\n",
       "      <td>5.000000</td>\n",
       "      <td>1.332720e+09</td>\n",
       "    </tr>\n",
       "    <tr>\n",
       "      <th>max</th>\n",
       "      <td>568454.000000</td>\n",
       "      <td>866.000000</td>\n",
       "      <td>923.00000</td>\n",
       "      <td>5.000000</td>\n",
       "      <td>1.351210e+09</td>\n",
       "    </tr>\n",
       "  </tbody>\n",
       "</table>\n",
       "</div>"
      ],
      "text/plain": [
       "                  Id  HelpfulnessNumerator  HelpfulnessDenominator  \\\n",
       "count  568454.000000         568454.000000            568454.00000   \n",
       "mean   284227.500000              1.743817                 2.22881   \n",
       "std    164098.679298              7.636513                 8.28974   \n",
       "min         1.000000              0.000000                 0.00000   \n",
       "25%    142114.250000              0.000000                 0.00000   \n",
       "50%    284227.500000              0.000000                 1.00000   \n",
       "75%    426340.750000              2.000000                 2.00000   \n",
       "max    568454.000000            866.000000               923.00000   \n",
       "\n",
       "               Score          Time  \n",
       "count  568454.000000  5.684540e+05  \n",
       "mean        4.183199  1.296257e+09  \n",
       "std         1.310436  4.804331e+07  \n",
       "min         1.000000  9.393408e+08  \n",
       "25%         4.000000  1.271290e+09  \n",
       "50%         5.000000  1.311120e+09  \n",
       "75%         5.000000  1.332720e+09  \n",
       "max         5.000000  1.351210e+09  "
      ]
     },
     "execution_count": 69,
     "metadata": {},
     "output_type": "execute_result"
    }
   ],
   "source": [
    "data.describe()"
   ]
  },
  {
   "cell_type": "code",
   "execution_count": 70,
   "metadata": {},
   "outputs": [
    {
     "data": {
      "image/png": "[encoded data removed]",
      "text/plain": [
       "<Figure size 1000x600 with 1 Axes>"
      ]
     },
     "metadata": {},
     "output_type": "display_data"
    }
   ],
   "source": [
    "import matplotlib.pyplot as plt\n",
    "import seaborn as sns\n",
    "\n",
    "# Configurações opcionais para tornar os gráficos mais atraentes\n",
    "sns.set(style=\"whitegrid\")\n",
    "plt.figure(figsize=(10, 6))\n",
    "\n",
    "# Cria o histograma para a coluna 'Score' com bins centrados em 1, 2, 3, 4, 5\n",
    "bins = [0.5, 1.5, 2.5, 3.5, 4.5, 5.5]\n",
    "\n",
    "sns.histplot(data['Score'], bins=bins, kde=False, color='purple', edgecolor='black')\n",
    "\n",
    "# Adiciona rótulos e título\n",
    "plt.xlabel('Score')\n",
    "plt.ylabel('Contagem')\n",
    "plt.title('Distribuição de Scores')\n",
    "\n",
    "# Define os ticks do eixo x para representar as classificações\n",
    "plt.xticks([1, 2, 3, 4, 5])\n",
    "\n",
    "# Remove as linhas verticais do grid\n",
    "ax = plt.gca()\n",
    "ax.xaxis.grid(False)\n",
    "\n",
    "# Exibe o histograma\n",
    "plt.show()\n"
   ]
  },
  {
   "cell_type": "code",
   "execution_count": 71,
   "metadata": {},
   "outputs": [
    {
     "data": {
      "image/png": "[encoded data removed]",
      "text/plain": [
       "<Figure size 1000x600 with 1 Axes>"
      ]
     },
     "metadata": {},
     "output_type": "display_data"
    }
   ],
   "source": [
    "# Configurações opcionais para tornar os gráficos mais atraentes\n",
    "sns.set(style=\"whitegrid\")\n",
    "plt.figure(figsize=(10, 6))\n",
    "\n",
    "# Cria o gráfico de dispersão entre 'Score' e 'HelpfulnessNumerator'\n",
    "sns.scatterplot(x='Score', y='HelpfulnessNumerator', data=data, color='blue')\n",
    "\n",
    "# Adiciona rótulos e título\n",
    "plt.xlabel('Score')\n",
    "plt.ylabel('HelpfulnessNumerator')\n",
    "plt.title('Relação entre Score e HelpfulnessNumerator')\n",
    "\n",
    "# Define os ticks do eixo x para representar apenas os valores desejados (1, 2, 3, 4, 5)\n",
    "plt.xticks([1, 2, 3, 4, 5])\n",
    "\n",
    "# Exibe o gráfico de dispersão\n",
    "plt.show()"
   ]
  },
  {
   "cell_type": "code",
   "execution_count": 72,
   "metadata": {},
   "outputs": [
    {
     "name": "stdout",
     "output_type": "stream",
     "text": [
      "Coeficiente de Correlação de Pearson: -0.032590113428634895\n"
     ]
    }
   ],
   "source": [
    "# Calcula o coeficiente de correlação de Pearson\n",
    "correlation = np.corrcoef(data['HelpfulnessNumerator'], data['Score'])[0, 1]\n",
    "\n",
    "print(f\"Coeficiente de Correlação de Pearson: {correlation}\")"
   ]
  },
  {
   "cell_type": "code",
   "execution_count": 73,
   "metadata": {},
   "outputs": [
    {
     "data": {
      "text/html": [
       "<div>\n",
       "<style scoped>\n",
       "    .dataframe tbody tr th:only-of-type {\n",
       "        vertical-align: middle;\n",
       "    }\n",
       "\n",
       "    .dataframe tbody tr th {\n",
       "        vertical-align: top;\n",
       "    }\n",
       "\n",
       "    .dataframe thead th {\n",
       "        text-align: right;\n",
       "    }\n",
       "</style>\n",
       "<table border=\"1\" class=\"dataframe\">\n",
       "  <thead>\n",
       "    <tr style=\"text-align: right;\">\n",
       "      <th></th>\n",
       "      <th>Id</th>\n",
       "      <th>ProductId</th>\n",
       "      <th>UserId</th>\n",
       "      <th>ProfileName</th>\n",
       "      <th>HelpfulnessNumerator</th>\n",
       "      <th>HelpfulnessDenominator</th>\n",
       "      <th>Score</th>\n",
       "      <th>Time</th>\n",
       "      <th>Summary</th>\n",
       "      <th>Text</th>\n",
       "    </tr>\n",
       "  </thead>\n",
       "  <tbody>\n",
       "    <tr>\n",
       "      <th>0</th>\n",
       "      <td>1</td>\n",
       "      <td>B001E4KFG0</td>\n",
       "      <td>A3SGXH7AUHU8GW</td>\n",
       "      <td>delmartian</td>\n",
       "      <td>1</td>\n",
       "      <td>1</td>\n",
       "      <td>5</td>\n",
       "      <td>1303862400</td>\n",
       "      <td>Good Quality Dog Food</td>\n",
       "      <td>I have bought several of the Vitality canned d...</td>\n",
       "    </tr>\n",
       "    <tr>\n",
       "      <th>1</th>\n",
       "      <td>2</td>\n",
       "      <td>B00813GRG4</td>\n",
       "      <td>A1D87F6ZCVE5NK</td>\n",
       "      <td>dll pa</td>\n",
       "      <td>0</td>\n",
       "      <td>0</td>\n",
       "      <td>1</td>\n",
       "      <td>1346976000</td>\n",
       "      <td>Not as Advertised</td>\n",
       "      <td>Product arrived labeled as Jumbo Salted Peanut...</td>\n",
       "    </tr>\n",
       "    <tr>\n",
       "      <th>2</th>\n",
       "      <td>3</td>\n",
       "      <td>B000LQOCH0</td>\n",
       "      <td>ABXLMWJIXXAIN</td>\n",
       "      <td>Natalia Corres \"Natalia Corres\"</td>\n",
       "      <td>1</td>\n",
       "      <td>1</td>\n",
       "      <td>4</td>\n",
       "      <td>1219017600</td>\n",
       "      <td>\"Delight\" says it all</td>\n",
       "      <td>This is a confection that has been around a fe...</td>\n",
       "    </tr>\n",
       "    <tr>\n",
       "      <th>3</th>\n",
       "      <td>4</td>\n",
       "      <td>B000UA0QIQ</td>\n",
       "      <td>A395BORC6FGVXV</td>\n",
       "      <td>Karl</td>\n",
       "      <td>3</td>\n",
       "      <td>3</td>\n",
       "      <td>2</td>\n",
       "      <td>1307923200</td>\n",
       "      <td>Cough Medicine</td>\n",
       "      <td>If you are looking for the secret ingredient i...</td>\n",
       "    </tr>\n",
       "    <tr>\n",
       "      <th>4</th>\n",
       "      <td>5</td>\n",
       "      <td>B006K2ZZ7K</td>\n",
       "      <td>A1UQRSCLF8GW1T</td>\n",
       "      <td>Michael D. Bigham \"M. Wassir\"</td>\n",
       "      <td>0</td>\n",
       "      <td>0</td>\n",
       "      <td>5</td>\n",
       "      <td>1350777600</td>\n",
       "      <td>Great taffy</td>\n",
       "      <td>Great taffy at a great price.  There was a wid...</td>\n",
       "    </tr>\n",
       "  </tbody>\n",
       "</table>\n",
       "</div>"
      ],
      "text/plain": [
       "   Id   ProductId          UserId                      ProfileName  \\\n",
       "0   1  B001E4KFG0  A3SGXH7AUHU8GW                       delmartian   \n",
       "1   2  B00813GRG4  A1D87F6ZCVE5NK                           dll pa   \n",
       "2   3  B000LQOCH0   ABXLMWJIXXAIN  Natalia Corres \"Natalia Corres\"   \n",
       "3   4  B000UA0QIQ  A395BORC6FGVXV                             Karl   \n",
       "4   5  B006K2ZZ7K  A1UQRSCLF8GW1T    Michael D. Bigham \"M. Wassir\"   \n",
       "\n",
       "   HelpfulnessNumerator  HelpfulnessDenominator  Score        Time  \\\n",
       "0                     1                       1      5  1303862400   \n",
       "1                     0                       0      1  1346976000   \n",
       "2                     1                       1      4  1219017600   \n",
       "3                     3                       3      2  1307923200   \n",
       "4                     0                       0      5  1350777600   \n",
       "\n",
       "                 Summary                                               Text  \n",
       "0  Good Quality Dog Food  I have bought several of the Vitality canned d...  \n",
       "1      Not as Advertised  Product arrived labeled as Jumbo Salted Peanut...  \n",
       "2  \"Delight\" says it all  This is a confection that has been around a fe...  \n",
       "3         Cough Medicine  If you are looking for the secret ingredient i...  \n",
       "4            Great taffy  Great taffy at a great price.  There was a wid...  "
      ]
     },
     "execution_count": 73,
     "metadata": {},
     "output_type": "execute_result"
    }
   ],
   "source": [
    "# Filtra o DataFrame original para incluir scores diferentes de 3\n",
    "data_filter = data[data['Score'].isin([1, 2, 4, 5])].copy()\n",
    "\n",
    "data_filter.head()"
   ]
  },
  {
   "cell_type": "markdown",
   "metadata": {},
   "source": [
    "#### Observando a distribuição de classes 1 e 2 sendo considerados negativos e 4 e 5 sendo considerados positivos "
   ]
  },
  {
   "cell_type": "code",
   "execution_count": 74,
   "metadata": {},
   "outputs": [
    {
     "data": {
      "image/png": "[encoded data removed]",
      "text/plain": [
       "<Figure size 800x600 with 1 Axes>"
      ]
     },
     "metadata": {},
     "output_type": "display_data"
    },
    {
     "name": "stdout",
     "output_type": "stream",
     "text": [
      "Distribuição de Classes (Score) em Porcentagem:\n",
      "4-5    84.398095\n",
      "1-2    15.601905\n",
      "Name: Categoria, dtype: float64\n"
     ]
    }
   ],
   "source": [
    "import seaborn as sns\n",
    "import matplotlib.pyplot as plt\n",
    "\n",
    "# Adiciona uma nova coluna chamada 'Categoria' com base nos scores\n",
    "data_filter['Categoria'] = data_filter['Score'].map({1: '1-2', 2: '1-2', 4: '4-5', 5: '4-5'})\n",
    "\n",
    "# Configurações opcionais para tornar os gráficos mais atraentes\n",
    "sns.set(style=\"whitegrid\")\n",
    "\n",
    "# Calcula a porcentagem de cada categoria\n",
    "porcentagens = data_filter['Categoria'].value_counts(normalize=True) * 100\n",
    "\n",
    "# Gráfico de barras para a distribuição de classes em porcentagem\n",
    "plt.figure(figsize=(8, 6))\n",
    "sns.barplot(x=porcentagens.index, y=porcentagens, palette='viridis')\n",
    "plt.xlabel('Categoria')\n",
    "plt.ylabel('Porcentagem (%)')\n",
    "plt.title('Distribuição de Classes (Score) em Porcentagem')\n",
    "plt.show()\n",
    "\n",
    "# Imprime as porcentagens\n",
    "print(\"Distribuição de Classes (Score) em Porcentagem:\")\n",
    "print(porcentagens)\n"
   ]
  },
  {
   "cell_type": "markdown",
   "metadata": {},
   "source": [
    "# Pré processamento"
   ]
  },
  {
   "cell_type": "markdown",
   "metadata": {},
   "source": [
    "### Transformando os scores em positivo e negativo, assim utilizando os scores como classe pois inicialmente não havia classe\n",
    "\n",
    "- 0 é considerado negativo e 1 positivo"
   ]
  },
  {
   "cell_type": "code",
   "execution_count": 75,
   "metadata": {},
   "outputs": [],
   "source": [
    "def partition(x):\n",
    "    if x < 3:\n",
    "        return 0\n",
    "    return 1\n",
    "\n",
    "score_upd = data_filter['Score']\n",
    "t = score_upd.map(partition)\n",
    "data_filter['Score']=t"
   ]
  },
  {
   "cell_type": "code",
   "execution_count": 76,
   "metadata": {},
   "outputs": [],
   "source": [
    "data_filter.rename(columns={'Score': 'Class'}, inplace=True)"
   ]
  },
  {
   "cell_type": "markdown",
   "metadata": {},
   "source": [
    "### Removendo linhas duplicadas e inconsistentes\n",
    "\n",
    "- Linhas inconsistentes possuem o HelpfullnessNumerator maior do que o HelpfullnesDenominator"
   ]
  },
  {
   "cell_type": "code",
   "execution_count": 77,
   "metadata": {},
   "outputs": [],
   "source": [
    "data_filter = data_filter.drop_duplicates(subset={\"UserId\",\"ProfileName\",\"Time\",\"Text\"})\n",
    "\n",
    "data_filter = data_filter[data_filter['HelpfulnessNumerator'] <= data_filter['HelpfulnessDenominator']]"
   ]
  },
  {
   "cell_type": "markdown",
   "metadata": {},
   "source": [
    "### Adicionando a coluna Usefulness para separar reviews considerados úteis pelos usuários dos pouco úteis\n",
    "\n",
    "- 0 é dado em que as opiniões positivas não deram mais de 50% de todas as opiniões do review, então considerado inútil\n",
    "- 1 é considerado útil"
   ]
  },
  {
   "cell_type": "code",
   "execution_count": 78,
   "metadata": {},
   "outputs": [],
   "source": [
    "data_filter[\"Usefulness\"] = (data_filter[\"HelpfulnessNumerator\"]/data_filter[\"HelpfulnessDenominator\"]).apply(lambda n: 1 if n > 0.5 else 0)"
   ]
  },
  {
   "cell_type": "markdown",
   "metadata": {},
   "source": [
    "# Remoção de colunas que não serão utilizadas\n",
    "\n",
    "- main_data_only_ones possui o dataset sem as colunas que não serão utilizadas e apenas os scores 1 e 5\n",
    "- main_data_combined possui o dataset sem as colunas que não serão utilizadas e apenas scores 1, 2 e 5"
   ]
  },
  {
   "cell_type": "code",
   "execution_count": 79,
   "metadata": {},
   "outputs": [],
   "source": [
    "to_be_removed = ['Id', 'ProductId', 'UserId', 'ProfileName', 'Time', 'Summary', 'HelpfulnessNumerator', 'HelpfulnessDenominator', 'Categoria']\n",
    "# Remove as colunas\n",
    "main_data = data_filter.drop(to_be_removed, axis=1)"
   ]
  },
  {
   "cell_type": "code",
   "execution_count": 80,
   "metadata": {},
   "outputs": [
    {
     "name": "stdout",
     "output_type": "stream",
     "text": [
      "Useful: 151325\n",
      "Useless: 212846\n",
      "364171\n"
     ]
    }
   ],
   "source": [
    "count = main_data['Usefulness'].value_counts()\n",
    "count_useful = count[1]\n",
    "\n",
    "count_useless = count[0]\n",
    "count_useless\n",
    "\n",
    "print('Useful:', count_useful)\n",
    "print('Useless:', count_useless)\n",
    "print(count_useful+count_useless)"
   ]
  },
  {
   "cell_type": "markdown",
   "metadata": {},
   "source": [
    "#### Escolheu-se utilizar duas versões do dataframe: uma apenas com os reviews considerados úteis e uma com todos os reviews"
   ]
  },
  {
   "cell_type": "code",
   "execution_count": 81,
   "metadata": {},
   "outputs": [],
   "source": [
    "main_data_total = main_data.copy()\n",
    "main_data_useful = main_data[main_data['Usefulness'] != 0].copy()\n",
    "\n",
    "main_data_total = main_data.iloc[0:3640, :].copy()\n",
    "main_data_useful = main_data_useful.iloc[0:3640, :].copy()"
   ]
  },
  {
   "cell_type": "code",
   "execution_count": 82,
   "metadata": {},
   "outputs": [
    {
     "data": {
      "text/plain": [
       "<bound method DataFrame.count of       Class                                               Text  Usefulness\n",
       "0         1  I have bought several of the Vitality canned d...           1\n",
       "1         0  Product arrived labeled as Jumbo Salted Peanut...           0\n",
       "2         1  This is a confection that has been around a fe...           1\n",
       "3         0  If you are looking for the secret ingredient i...           1\n",
       "4         1  Great taffy at a great price.  There was a wid...           0\n",
       "...     ...                                                ...         ...\n",
       "3962      1  High quality body wash that is very thick and ...           0\n",
       "3963      1  I love this body wash.  It leaves my skin feel...           0\n",
       "3964      1  Great product and great scheduled deliveries. ...           0\n",
       "3965      1  Very pleased this stuff smells so good. My roo...           0\n",
       "3966      1  i bought this -4 pack of dove deep wash and th...           0\n",
       "\n",
       "[3640 rows x 3 columns]>"
      ]
     },
     "execution_count": 82,
     "metadata": {},
     "output_type": "execute_result"
    }
   ],
   "source": [
    "main_data_total.count"
   ]
  },
  {
   "cell_type": "code",
   "execution_count": 83,
   "metadata": {},
   "outputs": [
    {
     "data": {
      "text/plain": [
       "<bound method DataFrame.count of        Class                                               Text  Usefulness\n",
       "0          1  I have bought several of the Vitality canned d...           1\n",
       "2          1  This is a confection that has been around a fe...           1\n",
       "3          0  If you are looking for the secret ingredient i...           1\n",
       "8          1  Right now I'm mostly just sprouting this so my...           1\n",
       "10         1  I don't know if it's the cactus or the tequila...           1\n",
       "...      ...                                                ...         ...\n",
       "10519      0  This is for the Health Valley Tomato Soup No S...           1\n",
       "10520      1  My husband had a stroke and needed no salt pro...           1\n",
       "10521      1  I'm on a low sodium diet and this still has pl...           1\n",
       "10522      0  This is not the product I received.  They chan...           1\n",
       "10523      1  I LOVE this soup!  I have right sided heart fa...           1\n",
       "\n",
       "[3640 rows x 3 columns]>"
      ]
     },
     "execution_count": 83,
     "metadata": {},
     "output_type": "execute_result"
    }
   ],
   "source": [
    "main_data_useful.count"
   ]
  },
  {
   "cell_type": "markdown",
   "metadata": {},
   "source": [
    "#### Após a remoção e limpeza decidiu-se analisar novamente a distribuição de classes"
   ]
  },
  {
   "cell_type": "code",
   "execution_count": 84,
   "metadata": {},
   "outputs": [
    {
     "data": {
      "image/png": "[encoded data removed]",
      "text/plain": [
       "<Figure size 800x600 with 1 Axes>"
      ]
     },
     "metadata": {},
     "output_type": "display_data"
    },
    {
     "name": "stdout",
     "output_type": "stream",
     "text": [
      "Distribuição de Classes em Porcentagem:\n",
      "1    83.626374\n",
      "0    16.373626\n",
      "Name: Class, dtype: float64\n"
     ]
    }
   ],
   "source": [
    "sns.set(style=\"whitegrid\")\n",
    "\n",
    "# Calcula a porcentagem de cada classe\n",
    "porcentagens = main_data_total['Class'].value_counts(normalize=True) * 100\n",
    "\n",
    "# Gráfico de barras para a distribuição de classes em porcentagem\n",
    "plt.figure(figsize=(8, 6))\n",
    "sns.barplot(x=porcentagens.index, y=porcentagens, palette='viridis')\n",
    "plt.xlabel('Classe')\n",
    "plt.ylabel('Porcentagem (%)')\n",
    "plt.title('Distribuição de Classes em Porcentagem')\n",
    "plt.show()\n",
    "\n",
    "\n",
    "# Calcula a porcentagem de cada classe\n",
    "porcentagens = main_data_total['Class'].value_counts(normalize=True) * 100\n",
    "\n",
    "# Imprime as porcentagens\n",
    "print(\"Distribuição de Classes em Porcentagem:\")\n",
    "print(porcentagens)"
   ]
  },
  {
   "cell_type": "code",
   "execution_count": 85,
   "metadata": {},
   "outputs": [
    {
     "data": {
      "image/png": "[encoded data removed]",
      "text/plain": [
       "<Figure size 800x600 with 1 Axes>"
      ]
     },
     "metadata": {},
     "output_type": "display_data"
    },
    {
     "name": "stdout",
     "output_type": "stream",
     "text": [
      "Distribuição de Classes em Porcentagem:\n",
      "1    85.384615\n",
      "0    14.615385\n",
      "Name: Class, dtype: float64\n"
     ]
    }
   ],
   "source": [
    "sns.set(style=\"whitegrid\")\n",
    "\n",
    "# Calcula a porcentagem de cada classe\n",
    "porcentagens = main_data_useful['Class'].value_counts(normalize=True) * 100\n",
    "\n",
    "# Gráfico de barras para a distribuição de classes em porcentagem\n",
    "plt.figure(figsize=(8, 6))\n",
    "sns.barplot(x=porcentagens.index, y=porcentagens, palette='viridis')\n",
    "plt.xlabel('Classe')\n",
    "plt.ylabel('Porcentagem (%)')\n",
    "plt.title('Distribuição de Classes em Porcentagem')\n",
    "plt.show()\n",
    "\n",
    "\n",
    "# Calcula a porcentagem de cada classe\n",
    "porcentagens = main_data_useful['Class'].value_counts(normalize=True) * 100\n",
    "\n",
    "# Imprime as porcentagens\n",
    "print(\"Distribuição de Classes em Porcentagem:\")\n",
    "print(porcentagens)"
   ]
  },
  {
   "cell_type": "markdown",
   "metadata": {},
   "source": [
    "### Pré processamento do texto"
   ]
  },
  {
   "cell_type": "markdown",
   "metadata": {},
   "source": [
    "#### Transformando todas as letras em minúsculas"
   ]
  },
  {
   "cell_type": "code",
   "execution_count": 86,
   "metadata": {},
   "outputs": [],
   "source": [
    "main_data_total['Text'] = main_data_total['Text'].str.lower()\n",
    "main_data_useful['Text'] = main_data_useful['Text'].str.lower()"
   ]
  },
  {
   "cell_type": "code",
   "execution_count": 87,
   "metadata": {},
   "outputs": [
    {
     "name": "stderr",
     "output_type": "stream",
     "text": [
      "[nltk_data] Downloading package stopwords to\n",
      "[nltk_data]     C:\\Users\\laril\\AppData\\Roaming\\nltk_data...\n",
      "[nltk_data]   Package stopwords is already up-to-date!\n"
     ]
    }
   ],
   "source": [
    "import re\n",
    "import nltk\n",
    "from nltk.corpus import stopwords\n",
    "from nltk.stem import SnowballStemmer\n",
    "\n",
    "nltk.download('stopwords')\n",
    "stop_words = set(stopwords.words('english'))\n",
    "\n",
    "# Função para remoção de pontuações\n",
    "def remove_punctuation(text):\n",
    "    return re.sub(r'[^\\w\\s]', '', text)\n",
    "\n",
    "# Função para padronizar palavras reduzindo repetições de caracteres\n",
    "def standardize_words(text):\n",
    "    return re.sub(r'(.)\\1+', r'\\1', text)\n",
    "\n",
    "# Função para realizar stemming com Snowball\n",
    "def snowball_stemming(text):\n",
    "    snowball_stemmer = SnowballStemmer(\"english\")\n",
    "    return ' '.join([snowball_stemmer.stem(word) for word in text.split()])\n",
    "\n",
    "# Função para pré-processamento completo\n",
    "def preprocess_text(text, stop_words):\n",
    "    text = text.lower()\n",
    "    text = remove_punctuation(text)\n",
    "    text = standardize_words(text)\n",
    "    text = snowball_stemming(text)\n",
    "    text = ' '.join([word for word in text.split() if word not in stop_words])\n",
    "    return text"
   ]
  },
  {
   "cell_type": "code",
   "execution_count": 88,
   "metadata": {},
   "outputs": [],
   "source": [
    "main_data_total['Text'] = main_data_total['Text'].apply(lambda x: preprocess_text(x, stop_words))\n",
    "main_data_useful['Text'] = main_data_useful['Text'].apply(lambda x: preprocess_text(x, stop_words))"
   ]
  },
  {
   "cell_type": "code",
   "execution_count": 89,
   "metadata": {},
   "outputs": [],
   "source": [
    "from sklearn.model_selection import train_test_split\n",
    "\n",
    "# Suponha que você já tenha pré-processado seus dados\n",
    "main_data_total['Text'] = main_data_total['Text'].apply(lambda x: preprocess_text(x, stop_words))\n",
    "main_data_useful['Text'] = main_data_useful['Text'].apply(lambda x: preprocess_text(x, stop_words))\n",
    "\n",
    "# Porcentagem do dataset que será utilizado para teste (exemplo com 20%)\n",
    "test_size = 0.2\n",
    "\n",
    "# Divisão do dataset total em treino e teste\n",
    "train_total, test_total = train_test_split(main_data_total, test_size=test_size, random_state=42)\n",
    "\n",
    "# Divisão do dataset útil em treino e teste\n",
    "train_useful, test_useful = train_test_split(main_data_useful, test_size=test_size, random_state=42)\n"
   ]
  },
  {
   "cell_type": "markdown",
   "metadata": {},
   "source": [
    "#### Undersampling para ajustar a distribuição de classe para 70 - 30"
   ]
  },
  {
   "cell_type": "code",
   "execution_count": 90,
   "metadata": {},
   "outputs": [],
   "source": [
    "from imblearn.under_sampling import RandomUnderSampler\n",
    "\n",
    "undersample = RandomUnderSampler(sampling_strategy=0.43, random_state=42)\n",
    "X_train_total, y_train_total = undersample.fit_resample(train_total[['Text']], train_total['Class'])\n",
    "X_train_useful, y_train_useful = undersample.fit_resample(train_useful[['Text']], train_useful['Class'])\n"
   ]
  },
  {
   "cell_type": "markdown",
   "metadata": {},
   "source": [
    "#### Distribuição das classes após o undersampling"
   ]
  },
  {
   "cell_type": "code",
   "execution_count": 91,
   "metadata": {},
   "outputs": [
    {
     "data": {
      "image/png": "[encoded data removed]",
      "text/plain": [
       "<Figure size 800x600 with 1 Axes>"
      ]
     },
     "metadata": {},
     "output_type": "display_data"
    },
    {
     "name": "stdout",
     "output_type": "stream",
     "text": [
      "Distribuição de Classes em Porcentagem - Conjunto de Treino Útil Undersampled:\n",
      "1    69.93007\n",
      "0    30.06993\n",
      "Name: Class, dtype: float64\n"
     ]
    }
   ],
   "source": [
    "import seaborn as sns\n",
    "import matplotlib.pyplot as plt\n",
    "\n",
    "# Calcula a porcentagem de cada classe no conjunto de treino útil undersampled\n",
    "porcentagens_undersampled = y_train_useful.value_counts(normalize=True) * 100\n",
    "\n",
    "# Gráfico de barras para a distribuição de classes em porcentagem no conjunto de treino útil undersampled\n",
    "plt.figure(figsize=(8, 6))\n",
    "sns.barplot(x=porcentagens_undersampled.index, y=porcentagens_undersampled, palette='viridis')\n",
    "plt.xlabel('Classe')\n",
    "plt.ylabel('Porcentagem (%)')\n",
    "plt.title('Distribuição de Classes em Porcentagem - Conjunto de Treino Útil Undersampled')\n",
    "plt.show()\n",
    "\n",
    "# Imprime as porcentagens no conjunto de treino útil undersampled\n",
    "print(\"Distribuição de Classes em Porcentagem - Conjunto de Treino Útil Undersampled:\")\n",
    "print(porcentagens_undersampled)\n"
   ]
  },
  {
   "cell_type": "code",
   "execution_count": 92,
   "metadata": {},
   "outputs": [
    {
     "data": {
      "image/png": "[encoded data removed]",
      "text/plain": [
       "<Figure size 800x600 with 1 Axes>"
      ]
     },
     "metadata": {},
     "output_type": "display_data"
    },
    {
     "name": "stdout",
     "output_type": "stream",
     "text": [
      "Distribuição de Classes em Porcentagem - Conjunto de Treino Útil Undersampled:\n",
      "1    69.917669\n",
      "0    30.082331\n",
      "Name: Class, dtype: float64\n"
     ]
    }
   ],
   "source": [
    "import seaborn as sns\n",
    "import matplotlib.pyplot as plt\n",
    "\n",
    "# Calcula a porcentagem de cada classe no conjunto de treino total undersampled\n",
    "porcentagens_undersampled = y_train_total.value_counts(normalize=True) * 100\n",
    "\n",
    "# Gráfico de barras para a distribuição de classes em porcentagem no conjunto de treino total undersampled\n",
    "plt.figure(figsize=(8, 6))\n",
    "sns.barplot(x=porcentagens_undersampled.index, y=porcentagens_undersampled, palette='viridis')\n",
    "plt.xlabel('Classe')\n",
    "plt.ylabel('Porcentagem (%)')\n",
    "plt.title('Distribuição de Classes em Porcentagem - Conjunto de Treino Útil Undersampled')\n",
    "plt.show()\n",
    "\n",
    "# Imprime as porcentagens no conjunto de treino útil undersampled\n",
    "print(\"Distribuição de Classes em Porcentagem - Conjunto de Treino Útil Undersampled:\")\n",
    "print(porcentagens_undersampled)\n"
   ]
  },
  {
   "cell_type": "markdown",
   "metadata": {},
   "source": [
    "#### Bag of words para representar o texto dos reviews"
   ]
  },
  {
   "cell_type": "code",
   "execution_count": 93,
   "metadata": {},
   "outputs": [],
   "source": [
    "from sklearn.feature_extraction.text import CountVectorizer\n",
    "\n",
    "# Treinando o vetorizador no conjunto de treino total\n",
    "vectorizer_bow = CountVectorizer()\n",
    "X_train_total_bow = vectorizer_bow.fit_transform(train_total['Text'])\n",
    "\n",
    "# Aplicando o vetorizador ao conjunto de teste total\n",
    "X_test_total_bow = vectorizer_bow.transform(test_total['Text'])\n",
    "\n",
    "# Repetindo o processo para o conjunto útil\n",
    "X_train_useful_bow = vectorizer_bow.fit_transform(train_useful['Text'])\n",
    "X_test_useful_bow = vectorizer_bow.transform(test_useful['Text'])"
   ]
  },
  {
   "cell_type": "markdown",
   "metadata": {},
   "source": [
    "#### Word2Vec para representar o texto dos reviews"
   ]
  },
  {
   "cell_type": "code",
   "execution_count": 94,
   "metadata": {},
   "outputs": [],
   "source": [
    "from gensim.models import Word2Vec\n",
    "from nltk.tokenize import word_tokenize\n",
    "\n",
    "# Função para obter a representação vetorial de uma palavra, verificando sua presença no vocabulário\n",
    "def get_word_vector(model, word):\n",
    "    if word in model.wv.key_to_index:\n",
    "        return model.wv[word]\n",
    "    else:\n",
    "        return None  # Retorna None se a palavra não estiver no vocabulário\n",
    "\n",
    "# Tokenizando os textos\n",
    "tokenized_train_total = [word_tokenize(text) for text in train_total['Text']]\n",
    "tokenized_test_total = [word_tokenize(text) for text in test_total['Text']]\n",
    "\n",
    "tokenized_train_useful = [word_tokenize(text) for text in train_useful['Text']]\n",
    "tokenized_test_useful = [word_tokenize(text) for text in test_useful['Text']]\n",
    "\n",
    "# Treinando o modelo Word2Vec no conjunto de treino total\n",
    "model_w2v_total = Word2Vec(sentences=tokenized_train_total, vector_size=100, window=5, min_count=1, workers=4)\n",
    "\n",
    "# Obtendo as representações para os conjuntos de treino e teste total\n",
    "X_train_total_w2v = [[get_word_vector(model_w2v_total, word) for word in text] for text in tokenized_train_total]\n",
    "X_test_total_w2v = [[get_word_vector(model_w2v_total, word) for word in text] for text in tokenized_test_total]\n",
    "\n",
    "# Repetindo o processo para o conjunto útil\n",
    "model_w2v_useful = Word2Vec(sentences=tokenized_train_useful, vector_size=100, window=5, min_count=1, workers=4)\n",
    "X_train_useful_w2v = [[get_word_vector(model_w2v_useful, word) for word in text] for text in tokenized_train_useful]\n",
    "X_test_useful_w2v = [[get_word_vector(model_w2v_useful, word) for word in text] for text in tokenized_test_useful]\n"
   ]
  },
  {
   "cell_type": "markdown",
   "metadata": {},
   "source": [
    "#### Ngram com bigram e trigram para representação do texto dos reviews"
   ]
  },
  {
   "cell_type": "code",
   "execution_count": 95,
   "metadata": {},
   "outputs": [],
   "source": [
    "from sklearn.feature_extraction.text import CountVectorizer\n",
    "\n",
    "# Treinando o vetorizador no conjunto de treino total\n",
    "vectorizer_ngram = CountVectorizer(ngram_range=(2, 3)) \n",
    "X_train_total_ngram = vectorizer_ngram.fit_transform(train_total['Text'])\n",
    "\n",
    "# Aplicando o vetorizador ao conjunto de teste total\n",
    "X_test_total_ngram = vectorizer_ngram.transform(test_total['Text'])\n",
    "\n",
    "# Repetindo o processo para o conjunto útil\n",
    "X_train_useful_ngram = vectorizer_ngram.fit_transform(train_useful['Text'])\n",
    "X_test_useful_ngram = vectorizer_ngram.transform(test_useful['Text'])"
   ]
  },
  {
   "cell_type": "markdown",
   "metadata": {},
   "source": [
    "# Multinomial Naive Bayes"
   ]
  },
  {
   "cell_type": "markdown",
   "metadata": {},
   "source": [
    "### Multinomial Naibe Bayes com Bag of Words"
   ]
  },
  {
   "cell_type": "code",
   "execution_count": 96,
   "metadata": {},
   "outputs": [
    {
     "name": "stdout",
     "output_type": "stream",
     "text": [
      "Accuracy (Total): 0.8736263736263736\n",
      "\n",
      "Classification Report (Total):\n",
      "               precision    recall  f1-score   support\n",
      "\n",
      "           0       0.78      0.33      0.47       121\n",
      "           1       0.88      0.98      0.93       607\n",
      "\n",
      "    accuracy                           0.87       728\n",
      "   macro avg       0.83      0.66      0.70       728\n",
      "weighted avg       0.86      0.87      0.85       728\n",
      "\n",
      "Accuracy (Useful): 0.8804945054945055\n",
      "\n",
      "Classification Report (Useful):\n",
      "               precision    recall  f1-score   support\n",
      "\n",
      "           0       0.71      0.25      0.36       102\n",
      "           1       0.89      0.98      0.93       626\n",
      "\n",
      "    accuracy                           0.88       728\n",
      "   macro avg       0.80      0.61      0.65       728\n",
      "weighted avg       0.86      0.88      0.85       728\n",
      "\n"
     ]
    }
   ],
   "source": [
    "from sklearn.naive_bayes import MultinomialNB\n",
    "from sklearn.metrics import accuracy_score, classification_report\n",
    "\n",
    "# Criando instâncias do classificador Multinomial Naive Bayes\n",
    "naive_bayes_total_bow = MultinomialNB()\n",
    "naive_bayes_useful_bow = MultinomialNB()\n",
    "\n",
    "# Treinamento do modelo no conjunto total\n",
    "naive_bayes_total_bow.fit(X_train_total_bow, train_total['Class'])\n",
    "\n",
    "# Fazendo previsões no conjunto de teste total\n",
    "predictions_total_nb_bow = naive_bayes_total_bow.predict(X_test_total_bow)\n",
    "\n",
    "# Avaliação do modelo no conjunto total\n",
    "accuracy_total = accuracy_score(test_total['Class'], predictions_total_nb_bow)\n",
    "print(\"Accuracy (Total):\", accuracy_total)\n",
    "print(\"\\nClassification Report (Total):\\n\", classification_report(test_total['Class'], predictions_total_nb_bow))\n",
    "\n",
    "# Treinamento do modelo no conjunto útil\n",
    "naive_bayes_useful_bow.fit(X_train_useful_bow, train_useful['Class'])\n",
    "\n",
    "# Fazendo previsões no conjunto de teste útil\n",
    "predictions_useful_nb_bow = naive_bayes_useful_bow.predict(X_test_useful_bow)\n",
    "\n",
    "# Avaliação do modelo no conjunto útil\n",
    "accuracy_useful = accuracy_score(test_useful['Class'], predictions_useful_nb_bow)\n",
    "print(\"Accuracy (Useful):\", accuracy_useful)\n",
    "print(\"\\nClassification Report (Useful):\\n\", classification_report(test_useful['Class'], predictions_useful_nb_bow))\n"
   ]
  },
  {
   "cell_type": "markdown",
   "metadata": {},
   "source": [
    "### Multinomial Naibe Bayes com Word2Vec"
   ]
  },
  {
   "cell_type": "code",
   "execution_count": 97,
   "metadata": {},
   "outputs": [
    {
     "name": "stdout",
     "output_type": "stream",
     "text": [
      "Accuracy (Total - Word2Vec): 0.8736263736263736\n",
      "\n",
      "Classification Report (Total - Word2Vec):\n",
      "               precision    recall  f1-score   support\n",
      "\n",
      "           0       0.72      0.40      0.51       121\n",
      "           1       0.89      0.97      0.93       607\n",
      "\n",
      "    accuracy                           0.87       728\n",
      "   macro avg       0.80      0.68      0.72       728\n",
      "weighted avg       0.86      0.87      0.86       728\n",
      "\n",
      "Accuracy (Useful - Word2Vec): 0.8763736263736264\n",
      "\n",
      "Classification Report (Useful - Word2Vec):\n",
      "               precision    recall  f1-score   support\n",
      "\n",
      "           0       0.61      0.33      0.43       102\n",
      "           1       0.90      0.96      0.93       626\n",
      "\n",
      "    accuracy                           0.88       728\n",
      "   macro avg       0.75      0.65      0.68       728\n",
      "weighted avg       0.86      0.88      0.86       728\n",
      "\n"
     ]
    }
   ],
   "source": [
    "from sklearn.naive_bayes import MultinomialNB\n",
    "from sklearn.metrics import accuracy_score, classification_report\n",
    "from sklearn.feature_extraction.text import CountVectorizer\n",
    "\n",
    "# Aplicando o vetorizador CountVectorizer para transformar a representação de Word2Vec em formato compatível com o Naive Bayes\n",
    "vectorizer_w2v = CountVectorizer()\n",
    "\n",
    "# Conjunto total\n",
    "X_train_total_w2v_bow = vectorizer_w2v.fit_transform([' '.join(map(str, text)) for text in X_train_total_w2v])\n",
    "X_test_total_w2v_bow = vectorizer_w2v.transform([' '.join(map(str, text)) for text in X_test_total_w2v])\n",
    "\n",
    "# Conjunto útil\n",
    "X_train_useful_w2v_bow = vectorizer_w2v.fit_transform([' '.join(map(str, text)) for text in X_train_useful_w2v])\n",
    "X_test_useful_w2v_bow = vectorizer_w2v.transform([' '.join(map(str, text)) for text in X_test_useful_w2v])\n",
    "\n",
    "# Criando instância do classificador Multinomial Naive Bayes\n",
    "naive_bayes_total_w2v = MultinomialNB()\n",
    "naive_bayes_useful_w2v = MultinomialNB()\n",
    "\n",
    "# Treinamento do modelo nos conjuntos\n",
    "naive_bayes_total_w2v.fit(X_train_total_w2v_bow, train_total['Class'])\n",
    "naive_bayes_useful_w2v.fit(X_train_useful_w2v_bow, train_useful['Class'])\n",
    "\n",
    "# Fazendo previsões nos conjuntos de teste\n",
    "predictions_total_nb_w2v = naive_bayes_total_w2v.predict(X_test_total_w2v_bow)\n",
    "predictions_useful_nb_w2v = naive_bayes_useful_w2v.predict(X_test_useful_w2v_bow)\n",
    "\n",
    "# Avaliação dos modelos nos conjuntos\n",
    "accuracy_total_w2v = accuracy_score(test_total['Class'], predictions_total_nb_w2v)\n",
    "accuracy_useful_w2v = accuracy_score(test_useful['Class'], predictions_useful_nb_w2v)\n",
    "\n",
    "print(\"Accuracy (Total - Word2Vec):\", accuracy_total_w2v)\n",
    "print(\"\\nClassification Report (Total - Word2Vec):\\n\", classification_report(test_total['Class'], predictions_total_nb_w2v))\n",
    "\n",
    "print(\"Accuracy (Useful - Word2Vec):\", accuracy_useful_w2v)\n",
    "print(\"\\nClassification Report (Useful - Word2Vec):\\n\", classification_report(test_useful['Class'], predictions_useful_nb_w2v))\n"
   ]
  },
  {
   "cell_type": "markdown",
   "metadata": {},
   "source": [
    "### Multinomial Naibe Bayes com Ngram"
   ]
  },
  {
   "cell_type": "code",
   "execution_count": 98,
   "metadata": {},
   "outputs": [
    {
     "name": "stdout",
     "output_type": "stream",
     "text": [
      "Accuracy (Total - N-gram): 0.8626373626373627\n",
      "\n",
      "Classification Report (Total - N-gram):\n",
      "               precision    recall  f1-score   support\n",
      "\n",
      "           0       0.80      0.23      0.36       121\n",
      "           1       0.87      0.99      0.92       607\n",
      "\n",
      "    accuracy                           0.86       728\n",
      "   macro avg       0.83      0.61      0.64       728\n",
      "weighted avg       0.85      0.86      0.83       728\n",
      "\n",
      "Accuracy (Useful - N-gram): 0.8708791208791209\n",
      "\n",
      "Classification Report (Useful - N-gram):\n",
      "               precision    recall  f1-score   support\n",
      "\n",
      "           0       0.72      0.13      0.22       102\n",
      "           1       0.87      0.99      0.93       626\n",
      "\n",
      "    accuracy                           0.87       728\n",
      "   macro avg       0.80      0.56      0.57       728\n",
      "weighted avg       0.85      0.87      0.83       728\n",
      "\n"
     ]
    }
   ],
   "source": [
    "from sklearn.naive_bayes import MultinomialNB\n",
    "from sklearn.metrics import accuracy_score, classification_report\n",
    "\n",
    "# Criando instância do classificador Multinomial Naive Bayes\n",
    "naive_bayes_total_ngram = MultinomialNB()\n",
    "naive_bayes_useful_ngram = MultinomialNB()\n",
    "\n",
    "# Treinamento do modelo nos conjuntos\n",
    "naive_bayes_total_ngram.fit(X_train_total_ngram, train_total['Class'])\n",
    "naive_bayes_useful_ngram.fit(X_train_useful_ngram, train_useful['Class'])\n",
    "\n",
    "# Fazendo previsões nos conjuntos de teste\n",
    "predictions_total_nb_ngram = naive_bayes_total_ngram.predict(X_test_total_ngram)\n",
    "predictions_useful_nb_ngram = naive_bayes_useful_ngram.predict(X_test_useful_ngram)\n",
    "\n",
    "# Avaliação dos modelos nos conjuntos\n",
    "accuracy_total_ngram = accuracy_score(test_total['Class'], predictions_total_nb_ngram)\n",
    "accuracy_useful_ngram = accuracy_score(test_useful['Class'], predictions_useful_nb_ngram)\n",
    "\n",
    "print(\"Accuracy (Total - N-gram):\", accuracy_total_ngram)\n",
    "print(\"\\nClassification Report (Total - N-gram):\\n\", classification_report(test_total['Class'], predictions_total_nb_ngram))\n",
    "\n",
    "print(\"Accuracy (Useful - N-gram):\", accuracy_useful_ngram)\n",
    "print(\"\\nClassification Report (Useful - N-gram):\\n\", classification_report(test_useful['Class'], predictions_useful_nb_ngram))\n"
   ]
  },
  {
   "cell_type": "markdown",
   "metadata": {},
   "source": [
    "# Regressão Logística"
   ]
  },
  {
   "cell_type": "markdown",
   "metadata": {},
   "source": [
    "#### Regressão logística com Bag of Words"
   ]
  },
  {
   "cell_type": "code",
   "execution_count": 99,
   "metadata": {},
   "outputs": [
    {
     "name": "stdout",
     "output_type": "stream",
     "text": [
      "Accuracy (Total - Logistic Regression): 0.8997252747252747\n",
      "\n",
      "Classification Report (Total - Logistic Regression):\n",
      "               precision    recall  f1-score   support\n",
      "\n",
      "           0       0.79      0.55      0.64       121\n",
      "           1       0.91      0.97      0.94       607\n",
      "\n",
      "    accuracy                           0.90       728\n",
      "   macro avg       0.85      0.76      0.79       728\n",
      "weighted avg       0.89      0.90      0.89       728\n",
      "\n",
      "Accuracy (Useful - Logistic Regression): 0.9065934065934066\n",
      "\n",
      "Classification Report (Useful - Logistic Regression):\n",
      "               precision    recall  f1-score   support\n",
      "\n",
      "           0       0.72      0.54      0.62       102\n",
      "           1       0.93      0.97      0.95       626\n",
      "\n",
      "    accuracy                           0.91       728\n",
      "   macro avg       0.83      0.75      0.78       728\n",
      "weighted avg       0.90      0.91      0.90       728\n",
      "\n"
     ]
    }
   ],
   "source": [
    "from sklearn.linear_model import LogisticRegression\n",
    "\n",
    "# Criando instâncias do classificador de Regressão Logística\n",
    "logistic_regression_total = LogisticRegression()\n",
    "logistic_regression_useful = LogisticRegression()\n",
    "\n",
    "# Treinamento do modelo no conjunto total\n",
    "logistic_regression_total.fit(X_train_total_bow, train_total['Class'])\n",
    "\n",
    "# Fazendo previsões no conjunto de teste total\n",
    "predictions_total_logreg_bow = logistic_regression_total.predict(X_test_total_bow)\n",
    "\n",
    "# Avaliação do modelo no conjunto total\n",
    "accuracy_total_logreg = accuracy_score(test_total['Class'], predictions_total_logreg_bow)\n",
    "print(\"Accuracy (Total - Logistic Regression):\", accuracy_total_logreg)\n",
    "print(\"\\nClassification Report (Total - Logistic Regression):\\n\", classification_report(test_total['Class'], predictions_total_logreg_bow))\n",
    "\n",
    "# Treinamento do modelo no conjunto útil\n",
    "logistic_regression_useful.fit(X_train_useful_bow, train_useful['Class'])\n",
    "\n",
    "# Fazendo previsões no conjunto de teste útil\n",
    "predictions_useful_logreg_bow = logistic_regression_useful.predict(X_test_useful_bow)\n",
    "\n",
    "# Avaliação do modelo no conjunto útil\n",
    "accuracy_useful_logreg = accuracy_score(test_useful['Class'], predictions_useful_logreg_bow)\n",
    "print(\"Accuracy (Useful - Logistic Regression):\", accuracy_useful_logreg)\n",
    "print(\"\\nClassification Report (Useful - Logistic Regression):\\n\", classification_report(test_useful['Class'], predictions_useful_logreg_bow))\n"
   ]
  },
  {
   "cell_type": "markdown",
   "metadata": {},
   "source": [
    "#### Regressão logística com Word2Vec"
   ]
  },
  {
   "cell_type": "code",
   "execution_count": 100,
   "metadata": {},
   "outputs": [
    {
     "name": "stderr",
     "output_type": "stream",
     "text": [
      "C:\\Users\\laril\\AppData\\Local\\Packages\\PythonSoftwareFoundation.Python.3.9_qbz5n2kfra8p0\\LocalCache\\local-packages\\Python39\\site-packages\\sklearn\\linear_model\\_logistic.py:444: ConvergenceWarning: lbfgs failed to converge (status=1):\n",
      "STOP: TOTAL NO. of ITERATIONS REACHED LIMIT.\n",
      "\n",
      "Increase the number of iterations (max_iter) or scale the data as shown in:\n",
      "    https://scikit-learn.org/stable/modules/preprocessing.html\n",
      "Please also refer to the documentation for alternative solver options:\n",
      "    https://scikit-learn.org/stable/modules/linear_model.html#logistic-regression\n",
      "  n_iter_i = _check_optimize_result(\n"
     ]
    },
    {
     "name": "stdout",
     "output_type": "stream",
     "text": [
      "Accuracy (Total - Logistic Regression - Word2Vec): 0.8983516483516484\n",
      "\n",
      "Classification Report (Total - Logistic Regression - Word2Vec):\n",
      "               precision    recall  f1-score   support\n",
      "\n",
      "           0       0.72      0.63      0.67       121\n",
      "           1       0.93      0.95      0.94       607\n",
      "\n",
      "    accuracy                           0.90       728\n",
      "   macro avg       0.83      0.79      0.81       728\n",
      "weighted avg       0.89      0.90      0.90       728\n",
      "\n",
      "Accuracy (Useful - Logistic Regression - Word2Vec): 0.885989010989011\n",
      "\n",
      "Classification Report (Useful - Logistic Regression - Word2Vec):\n",
      "               precision    recall  f1-score   support\n",
      "\n",
      "           0       0.62      0.47      0.54       102\n",
      "           1       0.92      0.95      0.94       626\n",
      "\n",
      "    accuracy                           0.89       728\n",
      "   macro avg       0.77      0.71      0.74       728\n",
      "weighted avg       0.88      0.89      0.88       728\n",
      "\n"
     ]
    },
    {
     "name": "stderr",
     "output_type": "stream",
     "text": [
      "C:\\Users\\laril\\AppData\\Local\\Packages\\PythonSoftwareFoundation.Python.3.9_qbz5n2kfra8p0\\LocalCache\\local-packages\\Python39\\site-packages\\sklearn\\linear_model\\_logistic.py:444: ConvergenceWarning: lbfgs failed to converge (status=1):\n",
      "STOP: TOTAL NO. of ITERATIONS REACHED LIMIT.\n",
      "\n",
      "Increase the number of iterations (max_iter) or scale the data as shown in:\n",
      "    https://scikit-learn.org/stable/modules/preprocessing.html\n",
      "Please also refer to the documentation for alternative solver options:\n",
      "    https://scikit-learn.org/stable/modules/linear_model.html#logistic-regression\n",
      "  n_iter_i = _check_optimize_result(\n"
     ]
    }
   ],
   "source": [
    "from sklearn.linear_model import LogisticRegression\n",
    "from sklearn.metrics import accuracy_score, classification_report\n",
    "from sklearn.feature_extraction.text import CountVectorizer\n",
    "\n",
    "# Aplicando o vetorizador CountVectorizer para transformar a representação de Word2Vec em formato compatível com a Regressão Logística\n",
    "vectorizer_w2v = CountVectorizer()\n",
    "\n",
    "# Conjunto total\n",
    "X_train_total_w2v_bow = vectorizer_w2v.fit_transform([' '.join(map(str, text)) for text in X_train_total_w2v])\n",
    "X_test_total_w2v_bow = vectorizer_w2v.transform([' '.join(map(str, text)) for text in X_test_total_w2v])\n",
    "\n",
    "# Conjunto útil\n",
    "X_train_useful_w2v_bow = vectorizer_w2v.transform([' '.join(map(str, text)) for text in X_train_useful_w2v])\n",
    "X_test_useful_w2v_bow = vectorizer_w2v.transform([' '.join(map(str, text)) for text in X_test_useful_w2v])\n",
    "\n",
    "# Criando instâncias do classificador de Regressão Logística\n",
    "logistic_regression_total_w2v = LogisticRegression()\n",
    "logistic_regression_useful_w2v = LogisticRegression()\n",
    "\n",
    "# Treinamento do modelo nos conjuntos\n",
    "logistic_regression_total_w2v.fit(X_train_total_w2v_bow, train_total['Class'])\n",
    "logistic_regression_useful_w2v.fit(X_train_useful_w2v_bow, train_useful['Class'])\n",
    "\n",
    "# Fazendo previsões nos conjuntos de teste\n",
    "predictions_total_logreg_w2v = logistic_regression_total_w2v.predict(X_test_total_w2v_bow)\n",
    "predictions_useful_logreg_w2v = logistic_regression_useful_w2v.predict(X_test_useful_w2v_bow)\n",
    "\n",
    "# Avaliação dos modelos nos conjuntos\n",
    "accuracy_total_w2v = accuracy_score(test_total['Class'], predictions_total_logreg_w2v)\n",
    "accuracy_useful_w2v = accuracy_score(test_useful['Class'], predictions_useful_logreg_w2v)\n",
    "\n",
    "print(\"Accuracy (Total - Logistic Regression - Word2Vec):\", accuracy_total_w2v)\n",
    "print(\"\\nClassification Report (Total - Logistic Regression - Word2Vec):\\n\", classification_report(test_total['Class'], predictions_total_logreg_w2v))\n",
    "\n",
    "print(\"Accuracy (Useful - Logistic Regression - Word2Vec):\", accuracy_useful_w2v)\n",
    "print(\"\\nClassification Report (Useful - Logistic Regression - Word2Vec):\\n\", classification_report(test_useful['Class'], predictions_useful_logreg_w2v))\n"
   ]
  },
  {
   "cell_type": "markdown",
   "metadata": {},
   "source": [
    "#### Regressão logística com Ngram"
   ]
  },
  {
   "cell_type": "code",
   "execution_count": 101,
   "metadata": {},
   "outputs": [
    {
     "name": "stdout",
     "output_type": "stream",
     "text": [
      "Accuracy (Total - Logistic Regression - N-gram): 0.8406593406593407\n",
      "\n",
      "Classification Report (Total - Logistic Regression - N-gram):\n",
      "               precision    recall  f1-score   support\n",
      "\n",
      "           0       0.86      0.05      0.09       121\n",
      "           1       0.84      1.00      0.91       607\n",
      "\n",
      "    accuracy                           0.84       728\n",
      "   macro avg       0.85      0.52      0.50       728\n",
      "weighted avg       0.84      0.84      0.78       728\n",
      "\n",
      "Accuracy (Useful - Logistic Regression - N-gram): 0.8598901098901099\n",
      "\n",
      "Classification Report (Useful - Logistic Regression - N-gram):\n",
      "               precision    recall  f1-score   support\n",
      "\n",
      "           0       0.00      0.00      0.00       102\n",
      "           1       0.86      1.00      0.92       626\n",
      "\n",
      "    accuracy                           0.86       728\n",
      "   macro avg       0.43      0.50      0.46       728\n",
      "weighted avg       0.74      0.86      0.80       728\n",
      "\n"
     ]
    },
    {
     "name": "stderr",
     "output_type": "stream",
     "text": [
      "C:\\Users\\laril\\AppData\\Local\\Packages\\PythonSoftwareFoundation.Python.3.9_qbz5n2kfra8p0\\LocalCache\\local-packages\\Python39\\site-packages\\sklearn\\metrics\\_classification.py:1334: UndefinedMetricWarning: Precision and F-score are ill-defined and being set to 0.0 in labels with no predicted samples. Use `zero_division` parameter to control this behavior.\n",
      "  _warn_prf(average, modifier, msg_start, len(result))\n",
      "C:\\Users\\laril\\AppData\\Local\\Packages\\PythonSoftwareFoundation.Python.3.9_qbz5n2kfra8p0\\LocalCache\\local-packages\\Python39\\site-packages\\sklearn\\metrics\\_classification.py:1334: UndefinedMetricWarning: Precision and F-score are ill-defined and being set to 0.0 in labels with no predicted samples. Use `zero_division` parameter to control this behavior.\n",
      "  _warn_prf(average, modifier, msg_start, len(result))\n",
      "C:\\Users\\laril\\AppData\\Local\\Packages\\PythonSoftwareFoundation.Python.3.9_qbz5n2kfra8p0\\LocalCache\\local-packages\\Python39\\site-packages\\sklearn\\metrics\\_classification.py:1334: UndefinedMetricWarning: Precision and F-score are ill-defined and being set to 0.0 in labels with no predicted samples. Use `zero_division` parameter to control this behavior.\n",
      "  _warn_prf(average, modifier, msg_start, len(result))\n"
     ]
    }
   ],
   "source": [
    "from sklearn.linear_model import LogisticRegression\n",
    "from sklearn.metrics import accuracy_score, classification_report\n",
    "\n",
    "# Criando instâncias do classificador de Regressão Logística\n",
    "logistic_regression_total_ngram = LogisticRegression()\n",
    "logistic_regression_useful_ngram = LogisticRegression()\n",
    "\n",
    "# Treinamento do modelo nos conjuntos\n",
    "logistic_regression_total_ngram.fit(X_train_total_ngram, train_total['Class'])\n",
    "logistic_regression_useful_ngram.fit(X_train_useful_ngram, train_useful['Class'])\n",
    "\n",
    "# Fazendo previsões nos conjuntos de teste\n",
    "predictions_total_logreg_ngram = logistic_regression_total_ngram.predict(X_test_total_ngram)\n",
    "predictions_useful_logreg_ngram = logistic_regression_useful_ngram.predict(X_test_useful_ngram)\n",
    "\n",
    "# Avaliação dos modelos nos conjuntos\n",
    "accuracy_total_ngram = accuracy_score(test_total['Class'], predictions_total_logreg_ngram)\n",
    "accuracy_useful_ngram = accuracy_score(test_useful['Class'], predictions_useful_logreg_ngram)\n",
    "\n",
    "print(\"Accuracy (Total - Logistic Regression - N-gram):\", accuracy_total_ngram)\n",
    "print(\"\\nClassification Report (Total - Logistic Regression - N-gram):\\n\", classification_report(test_total['Class'], predictions_total_logreg_ngram))\n",
    "\n",
    "print(\"Accuracy (Useful - Logistic Regression - N-gram):\", accuracy_useful_ngram)\n",
    "print(\"\\nClassification Report (Useful - Logistic Regression - N-gram):\\n\", classification_report(test_useful['Class'], predictions_useful_logreg_ngram))\n"
   ]
  },
  {
   "cell_type": "markdown",
   "metadata": {},
   "source": [
    "#### LSTM"
   ]
  },
  {
   "cell_type": "code",
   "execution_count": 102,
   "metadata": {},
   "outputs": [],
   "source": [
    "from tensorflow.keras.models import Sequential\n",
    "from tensorflow.keras.layers import Embedding, LSTM, Dense\n",
    "from tensorflow.keras.preprocessing.text import Tokenizer\n",
    "from tensorflow.keras.preprocessing.sequence import pad_sequences\n",
    "from sklearn.metrics import accuracy_score, f1_score, confusion_matrix\n",
    "\n",
    "def train_evaluate_lstm(train_text, train_labels, test_text, test_labels):\n",
    "    top_words = 6000\n",
    "    tokenizer = Tokenizer(num_words=top_words)\n",
    "    tokenizer.fit_on_texts(train_text)\n",
    "    list_tokenized_train = tokenizer.texts_to_sequences(train_text)\n",
    "\n",
    "    max_review_length = 130\n",
    "    X_train = pad_sequences(list_tokenized_train, maxlen=max_review_length)\n",
    "    y_train = train_labels\n",
    "\n",
    "    embedding_vector_length = 32\n",
    "    model = Sequential()\n",
    "    model.add(Embedding(top_words + 1, embedding_vector_length, input_length=max_review_length))\n",
    "    model.add(LSTM(100))\n",
    "    model.add(Dense(1, activation='sigmoid'))\n",
    "    model.compile(loss='binary_crossentropy', optimizer='adam', metrics=['accuracy'])\n",
    "\n",
    "    model.fit(X_train, y_train, epochs=3, batch_size=64, validation_split=0.2)\n",
    "\n",
    "    list_tokenized_test = tokenizer.texts_to_sequences(test_text)\n",
    "    X_test = pad_sequences(list_tokenized_test, maxlen=max_review_length)\n",
    "    y_test = test_labels\n",
    "\n",
    "    predictions_lstm = model.predict(X_test)\n",
    "    y_pred = (predictions_lstm > 0.5)\n",
    "\n",
    "    accuracy = accuracy_score(y_pred, y_test)\n",
    "    f1 = f1_score(y_pred, y_test)\n",
    "    conf_matrix = confusion_matrix(y_test, y_pred)\n",
    "\n",
    "    return {\n",
    "        'Modelo': 'LSTM',\n",
    "        'Acurácia': accuracy,\n",
    "        'Precisão': None,\n",
    "        'Recall': None,\n",
    "        'F1 Score': f1,\n",
    "        'AUC-ROC': None,\n",
    "        'Classification Report': None,\n",
    "        'Matriz de Confusão': conf_matrix,\n",
    "        'Predictions': y_pred\n",
    "    }\n"
   ]
  },
  {
   "cell_type": "markdown",
   "metadata": {},
   "source": [
    "# Avaliação e comparação dos modelos "
   ]
  },
  {
   "cell_type": "code",
   "execution_count": 103,
   "metadata": {},
   "outputs": [],
   "source": [
    "from sklearn.metrics import accuracy_score, classification_report, precision_score, recall_score, f1_score, roc_auc_score, confusion_matrix\n",
    "\n",
    "# Função para avaliar um modelo e retornar os resultados\n",
    "def evaluate_model(predictions, true_labels, model_name):\n",
    "    # Avaliação do modelo\n",
    "    accuracy = accuracy_score(true_labels, predictions)\n",
    "    precision = precision_score(true_labels, predictions, average='weighted')\n",
    "    recall = recall_score(true_labels, predictions, average='weighted')\n",
    "    f1 = f1_score(true_labels, predictions, average='weighted')\n",
    "    auc_roc = roc_auc_score(true_labels, predictions, average='weighted', multi_class='ovr')\n",
    "\n",
    "    # Relatório de Classificação\n",
    "    report = classification_report(true_labels, predictions)\n",
    "\n",
    "    # Matriz de Confusão\n",
    "    conf_matrix = confusion_matrix(true_labels, predictions)\n",
    "\n",
    "    return {\n",
    "        'Modelo': model_name,\n",
    "        'Acurácia': accuracy,\n",
    "        'Precisão': precision,\n",
    "        'Recall': recall,\n",
    "        'F1 Score': f1,\n",
    "        'AUC-ROC': auc_roc,\n",
    "        'Relatório de Classificação': report,\n",
    "        'Matriz de Confusão': conf_matrix\n",
    "    }"
   ]
  },
  {
   "cell_type": "markdown",
   "metadata": {},
   "source": [
    "## Avaliação dos modelos"
   ]
  },
  {
   "cell_type": "code",
   "execution_count": 104,
   "metadata": {},
   "outputs": [
    {
     "name": "stderr",
     "output_type": "stream",
     "text": [
      "C:\\Users\\laril\\AppData\\Local\\Packages\\PythonSoftwareFoundation.Python.3.9_qbz5n2kfra8p0\\LocalCache\\local-packages\\Python39\\site-packages\\sklearn\\metrics\\_classification.py:1334: UndefinedMetricWarning: Precision is ill-defined and being set to 0.0 in labels with no predicted samples. Use `zero_division` parameter to control this behavior.\n",
      "  _warn_prf(average, modifier, msg_start, len(result))\n",
      "C:\\Users\\laril\\AppData\\Local\\Packages\\PythonSoftwareFoundation.Python.3.9_qbz5n2kfra8p0\\LocalCache\\local-packages\\Python39\\site-packages\\sklearn\\metrics\\_classification.py:1334: UndefinedMetricWarning: Precision and F-score are ill-defined and being set to 0.0 in labels with no predicted samples. Use `zero_division` parameter to control this behavior.\n",
      "  _warn_prf(average, modifier, msg_start, len(result))\n",
      "C:\\Users\\laril\\AppData\\Local\\Packages\\PythonSoftwareFoundation.Python.3.9_qbz5n2kfra8p0\\LocalCache\\local-packages\\Python39\\site-packages\\sklearn\\metrics\\_classification.py:1334: UndefinedMetricWarning: Precision and F-score are ill-defined and being set to 0.0 in labels with no predicted samples. Use `zero_division` parameter to control this behavior.\n",
      "  _warn_prf(average, modifier, msg_start, len(result))\n",
      "C:\\Users\\laril\\AppData\\Local\\Packages\\PythonSoftwareFoundation.Python.3.9_qbz5n2kfra8p0\\LocalCache\\local-packages\\Python39\\site-packages\\sklearn\\metrics\\_classification.py:1334: UndefinedMetricWarning: Precision and F-score are ill-defined and being set to 0.0 in labels with no predicted samples. Use `zero_division` parameter to control this behavior.\n",
      "  _warn_prf(average, modifier, msg_start, len(result))\n"
     ]
    },
    {
     "name": "stdout",
     "output_type": "stream",
     "text": [
      "Epoch 1/3\n"
     ]
    },
    {
     "name": "stderr",
     "output_type": "stream",
     "text": [
      "C:\\Users\\laril\\AppData\\Local\\Packages\\PythonSoftwareFoundation.Python.3.9_qbz5n2kfra8p0\\LocalCache\\local-packages\\Python39\\site-packages\\keras\\src\\engine\\data_adapter.py:1808: FutureWarning: The behavior of `series[i:j]` with an integer-dtype index is deprecated. In a future version, this will be treated as *label-based* indexing, consistent with e.g. `series[i]` lookups. To retain the old behavior, use `series.iloc[i:j]`. To get the future behavior, use `series.loc[i:j]`.\n",
      "  return t[start:end]\n"
     ]
    },
    {
     "name": "stdout",
     "output_type": "stream",
     "text": [
      "37/37 [==============================] - 6s 103ms/step - loss: 0.5026 - accuracy: 0.8252 - val_loss: 0.4497 - val_accuracy: 0.8302\n",
      "Epoch 2/3\n",
      "37/37 [==============================] - 3s 87ms/step - loss: 0.4202 - accuracy: 0.8386 - val_loss: 0.4003 - val_accuracy: 0.8302\n",
      "Epoch 3/3\n",
      "37/37 [==============================] - 3s 89ms/step - loss: 0.2707 - accuracy: 0.8798 - val_loss: 0.3068 - val_accuracy: 0.8731\n",
      "23/23 [==============================] - 1s 20ms/step\n",
      "Epoch 1/3\n"
     ]
    },
    {
     "name": "stderr",
     "output_type": "stream",
     "text": [
      "C:\\Users\\laril\\AppData\\Local\\Packages\\PythonSoftwareFoundation.Python.3.9_qbz5n2kfra8p0\\LocalCache\\local-packages\\Python39\\site-packages\\keras\\src\\engine\\data_adapter.py:1808: FutureWarning: The behavior of `series[i:j]` with an integer-dtype index is deprecated. In a future version, this will be treated as *label-based* indexing, consistent with e.g. `series[i]` lookups. To retain the old behavior, use `series.iloc[i:j]`. To get the future behavior, use `series.loc[i:j]`.\n",
      "  return t[start:end]\n"
     ]
    },
    {
     "name": "stdout",
     "output_type": "stream",
     "text": [
      "37/37 [==============================] - 6s 104ms/step - loss: 0.4850 - accuracy: 0.8424 - val_loss: 0.4100 - val_accuracy: 0.8542\n",
      "Epoch 2/3\n",
      "37/37 [==============================] - 4s 97ms/step - loss: 0.3978 - accuracy: 0.8519 - val_loss: 0.3742 - val_accuracy: 0.8542\n",
      "Epoch 3/3\n",
      "37/37 [==============================] - 3s 94ms/step - loss: 0.2628 - accuracy: 0.8845 - val_loss: 0.3306 - val_accuracy: 0.8714\n",
      "23/23 [==============================] - 1s 21ms/step\n"
     ]
    }
   ],
   "source": [
    "# Avaliar modelo Naive Bayes no conjunto total com Bag of Words\n",
    "result_total_nb_bow = evaluate_model(predictions_total_nb_bow, test_total['Class'], 'Naive Bayes (Total) - Bag of Words')\n",
    "\n",
    "# Avaliar modelo Naive Bayes no conjunto útil com Bag of Words\n",
    "result_useful_nb_bow = evaluate_model(predictions_useful_nb_bow, test_useful['Class'], 'Naive Bayes (Útil) - Bag of Words')\n",
    "\n",
    "# Avaliar modelo Naive Bayes no conjunto total com Word2Vec\n",
    "result_total_nb_w2v = evaluate_model(predictions_total_nb_w2v, test_total['Class'], 'Naive Bayes (Total) - Word2Vec')\n",
    "\n",
    "# Avaliar modelo Naive Bayes no conjunto útil com Word2Vec\n",
    "result_useful_nb_w2v = evaluate_model(predictions_useful_nb_w2v, test_useful['Class'], 'Naive Bayes (Útil) - Word2Vec')\n",
    "\n",
    "# Avaliar modelo Naive Bayes no conjunto total com Ngram\n",
    "result_total_nb_ngram = evaluate_model(predictions_total_nb_ngram, test_total['Class'], 'Naive Bayes (Total) - Ngram')\n",
    "\n",
    "# Avaliar modelo Naive Bayes no conjunto útil com Ngram\n",
    "result_useful_nb_ngram = evaluate_model(predictions_useful_nb_ngram, test_useful['Class'], 'Naive Bayes (Útil) - Ngram')\n",
    "\n",
    "# Avaliar modelo de Regressão Logística no conjunto total com Bag of Words\n",
    "result_total_logreg_bow = evaluate_model(predictions_total_logreg_bow, test_total['Class'], 'Regressão Logística (Total) - Bag of Words')\n",
    "\n",
    "# Avaliar modelo de Regressão Logística no conjunto útil com Bag of Words\n",
    "result_useful_logreg_bow = evaluate_model(predictions_useful_logreg_bow, test_useful['Class'], 'Regressão Logística (Útil) - Bag of Words')\n",
    "\n",
    "# Avaliar modelo de Regressão Logística no conjunto total com Word2Vec\n",
    "result_total_logreg_w2v = evaluate_model(predictions_total_logreg_w2v, test_total['Class'], 'Regressão Logística (Total) - Word2Vec')\n",
    "\n",
    "# Avaliar modelo de Regressão Logística no conjunto útil com Word2Vec\n",
    "result_useful_logreg_w2v = evaluate_model(predictions_useful_logreg_w2v, test_useful['Class'], 'Regressão Logística (Útil) - Word2Vec')\n",
    "\n",
    "# Avaliar modelo de Regressão Logística no conjunto total com Ngram\n",
    "result_total_logreg_ngram = evaluate_model(predictions_total_logreg_ngram, test_total['Class'], 'Regressão Logística (Total) - Ngram')\n",
    "\n",
    "# Avaliar modelo de Regressão Logística no conjunto útil com Ngram\n",
    "result_useful_logreg_ngram = evaluate_model(predictions_useful_logreg_ngram, test_useful['Class'], 'Regressão Logística (Útil) - Ngram')\n",
    "\n",
    "# Avaliar modelo LSTM no conjunto total\n",
    "result_total_lstm = train_evaluate_lstm(train_total['Text'], train_total['Class'], test_total['Text'], test_total['Class'])\n",
    "\n",
    "# Avaliar modelo LSTM no conjunto útil\n",
    "result_useful_lstm = train_evaluate_lstm(train_useful['Text'], train_useful['Class'], test_useful['Text'], test_useful['Class'])"
   ]
  },
  {
   "cell_type": "markdown",
   "metadata": {},
   "source": [
    "#### Impressão dos resultados de cada modelo gerado"
   ]
  },
  {
   "cell_type": "code",
   "execution_count": 105,
   "metadata": {},
   "outputs": [
    {
     "name": "stdout",
     "output_type": "stream",
     "text": [
      "Naive Bayes (Total) - Bag of Words:\n",
      "Acurácia: 0.8736263736263736\n",
      "Precisão: 0.8643916832725591\n",
      "Recall: 0.8736263736263736\n",
      "F1 Score: 0.8513555740788952\n",
      "AUC-ROC: 0.6562283006794015\n",
      "Matriz de confusão:\n",
      "[[ 40  81]\n",
      " [ 11 596]]\n",
      "\n",
      "\n",
      "Naive Bayes (Útil) - Bag of Words:\n",
      "Acurácia: 0.8804945054945055\n",
      "Precisão: 0.8644252572824002\n",
      "Recall: 0.8804945054945055\n",
      "F1 Score: 0.8543075630202019\n",
      "AUC-ROC: 0.6145617991605588\n",
      "Matriz de confusão:\n",
      "[[ 25  77]\n",
      " [ 10 616]]\n",
      "\n",
      "\n",
      "Naive Bayes (Total) - Word2Vec:\n",
      "Acurácia: 0.8736263736263736\n",
      "Precisão: 0.8607833221715399\n",
      "Recall: 0.8736263736263736\n",
      "F1 Score: 0.8581678909049875\n",
      "AUC-ROC: 0.6826963660871104\n",
      "Matriz de confusão:\n",
      "[[ 48  73]\n",
      " [ 19 588]]\n",
      "\n",
      "\n",
      "Naive Bayes (Útil) - Word2Vec:\n",
      "Acurácia: 0.8763736263736264\n",
      "Precisão: 0.8579441391941393\n",
      "Recall: 0.8763736263736264\n",
      "F1 Score: 0.8605679881157245\n",
      "AUC-ROC: 0.6490947816826411\n",
      "Matriz de confusão:\n",
      "[[ 34  68]\n",
      " [ 22 604]]\n",
      "\n",
      "\n",
      "Naive Bayes (Total) - Ngram:\n",
      "Acurácia: 0.8626373626373627\n",
      "Precisão: 0.8548641834356121\n",
      "Recall: 0.8626373626373627\n",
      "F1 Score: 0.8293181177796562\n",
      "AUC-ROC: 0.6099364167358776\n",
      "Matriz de confusão:\n",
      "[[ 28  93]\n",
      " [  7 600]]\n",
      "\n",
      "\n",
      "Naive Bayes (Útil) - Ngram:\n",
      "Acurácia: 0.8708791208791209\n",
      "Precisão: 0.8532915441366143\n",
      "Recall: 0.8708791208791209\n",
      "F1 Score: 0.8297460025004936\n",
      "AUC-ROC: 0.5597318799724362\n",
      "Matriz de confusão:\n",
      "[[ 13  89]\n",
      " [  5 621]]\n",
      "\n",
      "\n",
      "Regressão Logística (Total) - Bag of Words:\n",
      "Acurácia: 0.8997252747252747\n",
      "Precisão: 0.8931749539280596\n",
      "Recall: 0.8997252747252747\n",
      "F1 Score: 0.892158971830844\n",
      "AUC-ROC: 0.7579002546053616\n",
      "Matriz de confusão:\n",
      "[[ 66  55]\n",
      " [ 18 589]]\n",
      "\n",
      "\n",
      "Regressão Logística (Útil) - Bag of Words:\n",
      "Acurácia: 0.9065934065934066\n",
      "Precisão: 0.8992994815968662\n",
      "Recall: 0.9065934065934066\n",
      "F1 Score: 0.9007217220542114\n",
      "AUC-ROC: 0.7528346801979579\n",
      "Matriz de confusão:\n",
      "[[ 55  47]\n",
      " [ 21 605]]\n",
      "\n",
      "\n",
      "Regressão Logística (Total) - Word2Vec:\n",
      "Acurácia: 0.8983516483516484\n",
      "Precisão: 0.8938690255704701\n",
      "Recall: 0.8983516483516484\n",
      "F1 Score: 0.8954146041022795\n",
      "AUC-ROC: 0.790161613136003\n",
      "Matriz de confusão:\n",
      "[[ 76  45]\n",
      " [ 29 578]]\n",
      "\n",
      "\n",
      "Regressão Logística (Útil) - Word2Vec:\n",
      "Acurácia: 0.885989010989011\n",
      "Precisão: 0.8759040498671836\n",
      "Recall: 0.885989010989011\n",
      "F1 Score: 0.8791433539446297\n",
      "AUC-ROC: 0.7121311783499342\n",
      "Matriz de confusão:\n",
      "[[ 48  54]\n",
      " [ 29 597]]\n",
      "\n",
      "\n",
      "Regressão Logística (Total) - Ngram:\n",
      "Acurácia: 0.8406593406593407\n",
      "Precisão: 0.8432656109493835\n",
      "Recall: 0.8406593406593407\n",
      "F1 Score: 0.7765421231629818\n",
      "AUC-ROC: 0.523969665200757\n",
      "Matriz de confusão:\n",
      "[[  6 115]\n",
      " [  1 606]]\n",
      "\n",
      "\n",
      "Regressão Logística (Útil) - Ngram:\n",
      "Acurácia: 0.8598901098901099\n",
      "Precisão: 0.7394110010868253\n",
      "Recall: 0.8598901098901099\n",
      "F1 Score: 0.7951125683769703\n",
      "AUC-ROC: 0.5\n",
      "Matriz de confusão:\n",
      "[[  0 102]\n",
      " [  0 626]]\n",
      "\n",
      "\n",
      "LSTM (Total):\n",
      "Acurácia: 0.8722527472527473\n",
      "Precisão: None\n",
      "Recall: None\n",
      "F1 Score: 0.9272869429241594\n",
      "AUC-ROC: None\n",
      "Matriz de confusão:\n",
      "[[ 42  79]\n",
      " [ 14 593]]\n",
      "\n",
      "\n",
      "LSTM (Útil):\n",
      "Acurácia: 0.8873626373626373\n",
      "Precisão: None\n",
      "Recall: None\n",
      "F1 Score: 0.9382530120481928\n",
      "AUC-ROC: None\n",
      "Matriz de confusão:\n",
      "[[ 23  79]\n",
      " [  3 623]]\n",
      "\n",
      "\n"
     ]
    }
   ],
   "source": [
    "# Imprime os resultados do modelo Naive Bayes no conjunto total com Bag of Words\n",
    "print(\"Naive Bayes (Total) - Bag of Words:\")\n",
    "print(f\"Acurácia: {result_total_nb_bow['Acurácia']}\")\n",
    "print(f\"Precisão: {result_total_nb_bow['Precisão']}\")\n",
    "print(f\"Recall: {result_total_nb_bow['Recall']}\")\n",
    "print(f\"F1 Score: {result_total_nb_bow['F1 Score']}\")\n",
    "print(f\"AUC-ROC: {result_total_nb_bow['AUC-ROC']}\")\n",
    "print(f\"Matriz de confusão:\\n{result_total_nb_bow['Matriz de Confusão']}\")\n",
    "print(\"\\n\")\n",
    "\n",
    "# Imprime os resultados do modelo Naive Bayes no conjunto útil com Bag of Words\n",
    "print(\"Naive Bayes (Útil) - Bag of Words:\")\n",
    "print(f\"Acurácia: {result_useful_nb_bow['Acurácia']}\")\n",
    "print(f\"Precisão: {result_useful_nb_bow['Precisão']}\")\n",
    "print(f\"Recall: {result_useful_nb_bow['Recall']}\")\n",
    "print(f\"F1 Score: {result_useful_nb_bow['F1 Score']}\")\n",
    "print(f\"AUC-ROC: {result_useful_nb_bow['AUC-ROC']}\")\n",
    "print(f\"Matriz de confusão:\\n{result_useful_nb_bow['Matriz de Confusão']}\")\n",
    "print(\"\\n\")\n",
    "\n",
    "# Imprime os resultados do modelo Naive Bayes no conjunto total com Word2Vec\n",
    "print(\"Naive Bayes (Total) - Word2Vec:\")\n",
    "print(f\"Acurácia: {result_total_nb_w2v['Acurácia']}\")\n",
    "print(f\"Precisão: {result_total_nb_w2v['Precisão']}\")\n",
    "print(f\"Recall: {result_total_nb_w2v['Recall']}\")\n",
    "print(f\"F1 Score: {result_total_nb_w2v['F1 Score']}\")\n",
    "print(f\"AUC-ROC: {result_total_nb_w2v['AUC-ROC']}\")\n",
    "print(f\"Matriz de confusão:\\n{result_total_nb_w2v['Matriz de Confusão']}\")\n",
    "print(\"\\n\")\n",
    "\n",
    "# Imprime os resultados do modelo Naive Bayes no conjunto útil com Word2Vec\n",
    "print(\"Naive Bayes (Útil) - Word2Vec:\")\n",
    "print(f\"Acurácia: {result_useful_nb_w2v['Acurácia']}\")\n",
    "print(f\"Precisão: {result_useful_nb_w2v['Precisão']}\")\n",
    "print(f\"Recall: {result_useful_nb_w2v['Recall']}\")\n",
    "print(f\"F1 Score: {result_useful_nb_w2v['F1 Score']}\")\n",
    "print(f\"AUC-ROC: {result_useful_nb_w2v['AUC-ROC']}\")\n",
    "print(f\"Matriz de confusão:\\n{result_useful_nb_w2v['Matriz de Confusão']}\")\n",
    "print(\"\\n\")\n",
    "\n",
    "# Imprime os resultados do modelo Naive Bayes no conjunto total com Ngram\n",
    "print(\"Naive Bayes (Total) - Ngram:\")\n",
    "print(f\"Acurácia: {result_total_nb_ngram['Acurácia']}\")\n",
    "print(f\"Precisão: {result_total_nb_ngram['Precisão']}\")\n",
    "print(f\"Recall: {result_total_nb_ngram['Recall']}\")\n",
    "print(f\"F1 Score: {result_total_nb_ngram['F1 Score']}\")\n",
    "print(f\"AUC-ROC: {result_total_nb_ngram['AUC-ROC']}\")\n",
    "print(f\"Matriz de confusão:\\n{result_total_nb_ngram['Matriz de Confusão']}\")\n",
    "print(\"\\n\")\n",
    "\n",
    "# Imprime os resultados do modelo Naive Bayes no conjunto útil com Ngram\n",
    "print(\"Naive Bayes (Útil) - Ngram:\")\n",
    "print(f\"Acurácia: {result_useful_nb_ngram['Acurácia']}\")\n",
    "print(f\"Precisão: {result_useful_nb_ngram['Precisão']}\")\n",
    "print(f\"Recall: {result_useful_nb_ngram['Recall']}\")\n",
    "print(f\"F1 Score: {result_useful_nb_ngram['F1 Score']}\")\n",
    "print(f\"AUC-ROC: {result_useful_nb_ngram['AUC-ROC']}\")\n",
    "print(f\"Matriz de confusão:\\n{result_useful_nb_ngram['Matriz de Confusão']}\")\n",
    "print(\"\\n\")\n",
    "\n",
    "# Imprime os resultados do modelo de Regressão Logística no conjunto total com Bag of Words\n",
    "print(\"Regressão Logística (Total) - Bag of Words:\")\n",
    "print(f\"Acurácia: {result_total_logreg_bow['Acurácia']}\")\n",
    "print(f\"Precisão: {result_total_logreg_bow['Precisão']}\")\n",
    "print(f\"Recall: {result_total_logreg_bow['Recall']}\")\n",
    "print(f\"F1 Score: {result_total_logreg_bow['F1 Score']}\")\n",
    "print(f\"AUC-ROC: {result_total_logreg_bow['AUC-ROC']}\")\n",
    "print(f\"Matriz de confusão:\\n{result_total_logreg_bow['Matriz de Confusão']}\")\n",
    "print(\"\\n\")\n",
    "\n",
    "# Imprime os resultados do modelo de Regressão Logística no conjunto útil com Bag of Words\n",
    "print(\"Regressão Logística (Útil) - Bag of Words:\")\n",
    "print(f\"Acurácia: {result_useful_logreg_bow['Acurácia']}\")\n",
    "print(f\"Precisão: {result_useful_logreg_bow['Precisão']}\")\n",
    "print(f\"Recall: {result_useful_logreg_bow['Recall']}\")\n",
    "print(f\"F1 Score: {result_useful_logreg_bow['F1 Score']}\")\n",
    "print(f\"AUC-ROC: {result_useful_logreg_bow['AUC-ROC']}\")\n",
    "print(f\"Matriz de confusão:\\n{result_useful_logreg_bow['Matriz de Confusão']}\")\n",
    "print(\"\\n\")\n",
    "\n",
    "# Imprime os resultados do modelo de Regressão Logística no conjunto total com Word2Vec\n",
    "print(\"Regressão Logística (Total) - Word2Vec:\")\n",
    "print(f\"Acurácia: {result_total_logreg_w2v['Acurácia']}\")\n",
    "print(f\"Precisão: {result_total_logreg_w2v['Precisão']}\")\n",
    "print(f\"Recall: {result_total_logreg_w2v['Recall']}\")\n",
    "print(f\"F1 Score: {result_total_logreg_w2v['F1 Score']}\")\n",
    "print(f\"AUC-ROC: {result_total_logreg_w2v['AUC-ROC']}\")\n",
    "print(f\"Matriz de confusão:\\n{result_total_logreg_w2v['Matriz de Confusão']}\")\n",
    "print(\"\\n\")\n",
    "\n",
    "# Imprime os resultados do modelo de Regressão Logística no conjunto útil com Word2Vec\n",
    "print(\"Regressão Logística (Útil) - Word2Vec:\")\n",
    "print(f\"Acurácia: {result_useful_logreg_w2v['Acurácia']}\")\n",
    "print(f\"Precisão: {result_useful_logreg_w2v['Precisão']}\")\n",
    "print(f\"Recall: {result_useful_logreg_w2v['Recall']}\")\n",
    "print(f\"F1 Score: {result_useful_logreg_w2v['F1 Score']}\")\n",
    "print(f\"AUC-ROC: {result_useful_logreg_w2v['AUC-ROC']}\")\n",
    "print(f\"Matriz de confusão:\\n{result_useful_logreg_w2v['Matriz de Confusão']}\")\n",
    "print(\"\\n\")\n",
    "\n",
    "# Imprime os resultados do modelo de Regressão Logística no conjunto total com Ngram\n",
    "print(\"Regressão Logística (Total) - Ngram:\")\n",
    "print(f\"Acurácia: {result_total_logreg_ngram['Acurácia']}\")\n",
    "print(f\"Precisão: {result_total_logreg_ngram['Precisão']}\")\n",
    "print(f\"Recall: {result_total_logreg_ngram['Recall']}\")\n",
    "print(f\"F1 Score: {result_total_logreg_ngram['F1 Score']}\")\n",
    "print(f\"AUC-ROC: {result_total_logreg_ngram['AUC-ROC']}\")\n",
    "print(f\"Matriz de confusão:\\n{result_total_logreg_ngram['Matriz de Confusão']}\")\n",
    "print(\"\\n\")\n",
    "\n",
    "# Imprime os resultados do modelo de Regressão Logística no conjunto útil com Ngram\n",
    "print(\"Regressão Logística (Útil) - Ngram:\")\n",
    "print(f\"Acurácia: {result_useful_logreg_ngram['Acurácia']}\")\n",
    "print(f\"Precisão: {result_useful_logreg_ngram['Precisão']}\")\n",
    "print(f\"Recall: {result_useful_logreg_ngram['Recall']}\")\n",
    "print(f\"F1 Score: {result_useful_logreg_ngram['F1 Score']}\")\n",
    "print(f\"AUC-ROC: {result_useful_logreg_ngram['AUC-ROC']}\")\n",
    "print(f\"Matriz de confusão:\\n{result_useful_logreg_ngram['Matriz de Confusão']}\")\n",
    "print(\"\\n\")\n",
    "\n",
    "# Imprime os resultados do modelo LSTM no conjunto total\n",
    "print(\"LSTM (Total):\")\n",
    "print(f\"Acurácia: {result_total_lstm['Acurácia']}\")\n",
    "print(f\"Precisão: {result_total_lstm['Precisão']}\")\n",
    "print(f\"Recall: {result_total_lstm['Recall']}\")\n",
    "print(f\"F1 Score: {result_total_lstm['F1 Score']}\")\n",
    "print(f\"AUC-ROC: {result_total_lstm['AUC-ROC']}\")\n",
    "print(f\"Matriz de confusão:\\n{result_total_lstm['Matriz de Confusão']}\")\n",
    "print(\"\\n\")\n",
    "\n",
    "# Imprime os resultados do modelo LSTM no conjunto útil\n",
    "print(\"LSTM (Útil):\")\n",
    "print(f\"Acurácia: {result_useful_lstm['Acurácia']}\")\n",
    "print(f\"Precisão: {result_useful_lstm['Precisão']}\")\n",
    "print(f\"Recall: {result_useful_lstm['Recall']}\")\n",
    "print(f\"F1 Score: {result_useful_lstm['F1 Score']}\")\n",
    "print(f\"AUC-ROC: {result_useful_lstm['AUC-ROC']}\")\n",
    "print(f\"Matriz de confusão:\\n{result_useful_lstm['Matriz de Confusão']}\")\n",
    "print(\"\\n\")"
   ]
  },
  {
   "cell_type": "code",
   "execution_count": 124,
   "metadata": {},
   "outputs": [],
   "source": [
    "acuracia_total_nb_bow = [result_total_nb_bow['Acurácia']]\n",
    "acuracia_util_nb_bow = [result_useful_nb_bow['Acurácia']]\n",
    "acuracia_total_nb_w2v = [result_total_nb_w2v['Acurácia']]\n",
    "acuracia_util_nb_w2v = [result_useful_nb_w2v['Acurácia']]\n",
    "acuracia_total_nb_ngram = [result_total_nb_ngram['Acurácia']]\n",
    "acuracia_util_nb_ngram = [result_useful_nb_ngram['Acurácia']]\n",
    "acuracia_total_logreg_bow = [result_total_logreg_bow['Acurácia']]\n",
    "acuracia_util_logreg_bow = [result_useful_logreg_bow['Acurácia']]\n",
    "acuracia_total_logreg_w2v = [result_total_logreg_w2v['Acurácia']]\n",
    "acuracia_util_logreg_w2v = [result_useful_logreg_w2v['Acurácia']]\n",
    "acuracia_total_logreg_ngram = [result_total_logreg_ngram['Acurácia']]\n",
    "acuracia_util_logreg_ngram = [result_useful_logreg_ngram['Acurácia']]\n",
    "acuracia_total_lstm = [result_total_lstm['Acurácia']]\n",
    "acuracia_util_lstm = [result_useful_lstm['Acurácia']]"
   ]
  },
  {
   "cell_type": "code",
   "execution_count": 125,
   "metadata": {},
   "outputs": [
    {
     "name": "stdout",
     "output_type": "stream",
     "text": [
      "Acurácia Total Naive Bayes - Bag of Words: [0.8736263736263736]\n",
      "Acurácia Útil Naive Bayes - Bag of Words: [0.8804945054945055]\n",
      "Acurácia Total Naive Bayes - Word2Vec: [0.8736263736263736]\n",
      "Acurácia Útil Naive Bayes - Word2Vec: [0.8763736263736264]\n",
      "Acurácia Total Naive Bayes - Ngram: [0.8626373626373627]\n",
      "Acurácia Útil Naive Bayes - Ngram: [0.8708791208791209]\n",
      "Acurácia Total Regressão Logística - Bag of Words: [0.8997252747252747]\n",
      "Acurácia Útil Regressão Logística - Bag of Words: [0.9065934065934066]\n",
      "Acurácia Total Regressão Logística - Word2Vec: [0.8983516483516484]\n",
      "Acurácia Útil Regressão Logística - Word2Vec: [0.885989010989011]\n",
      "Acurácia Total Regressão Logística - Ngram: [0.8406593406593407]\n",
      "Acurácia Útil Regressão Logística - Ngram: [0.8598901098901099]\n",
      "Acurácia Total LSTM: [0.8722527472527473]\n",
      "Acurácia Útil LSTM: [0.8873626373626373]\n"
     ]
    }
   ],
   "source": [
    "print(\"Acurácia Total Naive Bayes - Bag of Words:\", acuracia_total_nb_bow)\n",
    "print(\"Acurácia Útil Naive Bayes - Bag of Words:\", acuracia_util_nb_bow)\n",
    "print(\"Acurácia Total Naive Bayes - Word2Vec:\", acuracia_total_nb_w2v)\n",
    "print(\"Acurácia Útil Naive Bayes - Word2Vec:\", acuracia_util_nb_w2v)\n",
    "print(\"Acurácia Total Naive Bayes - Ngram:\", acuracia_total_nb_ngram)\n",
    "print(\"Acurácia Útil Naive Bayes - Ngram:\", acuracia_util_nb_ngram)\n",
    "print(\"Acurácia Total Regressão Logística - Bag of Words:\", acuracia_total_logreg_bow)\n",
    "print(\"Acurácia Útil Regressão Logística - Bag of Words:\", acuracia_util_logreg_bow)\n",
    "print(\"Acurácia Total Regressão Logística - Word2Vec:\", acuracia_total_logreg_w2v)\n",
    "print(\"Acurácia Útil Regressão Logística - Word2Vec:\", acuracia_util_logreg_w2v)\n",
    "print(\"Acurácia Total Regressão Logística - Ngram:\", acuracia_total_logreg_ngram)\n",
    "print(\"Acurácia Útil Regressão Logística - Ngram:\", acuracia_util_logreg_ngram)\n",
    "print(\"Acurácia Total LSTM:\", acuracia_total_lstm)\n",
    "print(\"Acurácia Útil LSTM:\", acuracia_util_lstm)\n"
   ]
  },
  {
   "cell_type": "markdown",
   "metadata": {},
   "source": [
    "## ANOVA para comparação entre modelos Multinomial Naive Bayes"
   ]
  },
  {
   "cell_type": "code",
   "execution_count": 126,
   "metadata": {},
   "outputs": [
    {
     "name": "stdout",
     "output_type": "stream",
     "text": [
      "Estatística do teste: nan, p-Valor: nan\n",
      "Não há evidência estatística de diferença entre os modelos Naive Bayes.\n"
     ]
    }
   ],
   "source": [
    "import numpy as np\n",
    "from scipy.stats import f_oneway\n",
    "\n",
    "# Teste ANOVA para todos os modelos Naive Bayes\n",
    "stat_nb, p_value_nb = f_oneway(acuracia_total_nb_bow, acuracia_util_nb_bow, acuracia_total_nb_w2v, acuracia_util_nb_w2v, acuracia_total_nb_ngram, acuracia_util_nb_ngram)\n",
    "\n",
    "print(f\"Estatística do teste: {stat_nb}, p-Valor: {p_value_nb}\")\n",
    "\n",
    "if p_value_nb < 0.05:\n",
    "    print(\"Há diferença estatisticamente significativa entre os modelos Naive Bayes.\")\n",
    "else:\n",
    "    print(\"Não há evidência estatística de diferença entre os modelos Naive Bayes.\")\n"
   ]
  },
  {
   "cell_type": "markdown",
   "metadata": {},
   "source": [
    "## ANOVA para comparação entre modelos de regressão logística"
   ]
  },
  {
   "cell_type": "code",
   "execution_count": 127,
   "metadata": {},
   "outputs": [
    {
     "name": "stdout",
     "output_type": "stream",
     "text": [
      "Estatística do teste: nan, p-Valor: nan\n",
      "Não há evidência estatística de diferença entre os modelos de regressão logística.\n"
     ]
    }
   ],
   "source": [
    "# Teste ANOVA para todos os modelos de Regressão Logística\n",
    "stat_logreg, p_value_logreg = f_oneway(acuracia_total_logreg_bow, acuracia_util_logreg_bow, acuracia_total_logreg_w2v, acuracia_util_logreg_w2v, acuracia_total_logreg_ngram, acuracia_util_logreg_ngram)\n",
    "\n",
    "print(f\"Estatística do teste: {stat_logreg}, p-Valor: {p_value_logreg}\")\n",
    "\n",
    "if p_value_logreg < 0.05:\n",
    "    print(\"Há diferença estatisticamente significativa entre os modelos de regressão logística.\")\n",
    "else:\n",
    "    print(\"Não há evidência estatística de diferença entre os modelos de regressão logística.\")\n"
   ]
  },
  {
   "cell_type": "code",
   "execution_count": 128,
   "metadata": {},
   "outputs": [
    {
     "name": "stdout",
     "output_type": "stream",
     "text": [
      "Estatística do teste: nan, p-Valor: nan\n",
      "Não há evidência estatística de diferença entre os modelos LSTM.\n"
     ]
    },
    {
     "name": "stderr",
     "output_type": "stream",
     "text": [
      "C:\\Users\\laril\\AppData\\Local\\Temp\\ipykernel_11308\\4056054745.py:2: RuntimeWarning: Precision loss occurred in moment calculation due to catastrophic cancellation. This occurs when the data are nearly identical. Results may be unreliable.\n",
      "  stat_lstm, p_value_lstm = ttest_rel(acuracia_total_lstm, acuracia_util_lstm)\n"
     ]
    }
   ],
   "source": [
    "# Teste t pareado para os modelos LSTM\n",
    "stat_lstm, p_value_lstm = ttest_rel(acuracia_total_lstm, acuracia_util_lstm)\n",
    "\n",
    "print(f\"Estatística do teste: {stat_lstm}, p-Valor: {p_value_lstm}\")\n",
    "\n",
    "if p_value_lstm < 0.05:\n",
    "    print(\"Há diferença estatisticamente significativa entre os modelos LSTM.\")\n",
    "else:\n",
    "    print(\"Não há evidência estatística de diferença entre os modelos LSTM.\")\n"
   ]
  },
  {
   "cell_type": "markdown",
   "metadata": {},
   "source": [
    "## ANOVA para comparação entre um modelo de cada tipo escolhido\n",
    "\n",
    "- Foram escolhidos os modelos de melhor acurácia e F1 Score (um multinomial naive bayes, um de regressão logística e um LSTM)"
   ]
  },
  {
   "cell_type": "code",
   "execution_count": 129,
   "metadata": {},
   "outputs": [
    {
     "name": "stdout",
     "output_type": "stream",
     "text": [
      "Estatística do teste: nan, p-Valor: nan\n",
      "Não há evidência estatística de diferença entre os modelos de regressão logística.\n"
     ]
    }
   ],
   "source": [
    "# Teste ANOVA para os 3 modelos escolhidos\n",
    "stat, p_value = f_oneway(acuracia_util_logreg_bow, acuracia_total_nb_w2v, acuracia_util_lstm)\n",
    "\n",
    "print(f\"Estatística do teste: {stat}, p-Valor: {p_value}\")\n",
    "\n",
    "if p_value < 0.05:\n",
    "    print(\"Há diferença estatisticamente significativa entre os modelos de regressão logística.\")\n",
    "else:\n",
    "    print(\"Não há evidência estatística de diferença entre os modelos de regressão logística.\")"
   ]
  },
  {
   "cell_type": "markdown",
   "metadata": {},
   "source": [
    "# Considerando que não houve diferença estatística entre os modelos escolhe-se o modelo de regressão logística com o conjunto de reviews úteis, utilizando Bag of Words para representação do texto. Esse modelo foi escolhido como melhor para esse caso, entre os modelos testados, por suas medidas de acurácia, F1 score, matriz de dispersão e tempo de processamento."
   ]
  }
 ],
 "metadata": {
  "kernelspec": {
   "display_name": "Python 3",
   "language": "python",
   "name": "python3"
  },
  "language_info": {
   "codemirror_mode": {
    "name": "ipython",
    "version": 3
   },
   "file_extension": ".py",
   "mimetype": "text/x-python",
   "name": "python",
   "nbconvert_exporter": "python",
   "pygments_lexer": "ipython3",
   "version": "3.9.13"
  }
 },
 "nbformat": 4,
 "nbformat_minor": 2
}
